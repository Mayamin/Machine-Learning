{
  "nbformat": 4,
  "nbformat_minor": 0,
  "metadata": {
    "colab": {
      "provenance": [],
      "toc_visible": true
    },
    "kernelspec": {
      "name": "python3",
      "display_name": "Python 3"
    },
    "language_info": {
      "name": "python"
    }
  },
  "cells": [
    {
      "cell_type": "code",
      "execution_count": null,
      "metadata": {
        "id": "ABfzif0lSgcU"
      },
      "outputs": [],
      "source": [
        "#intro to NN with regression\n",
        "import tensorflow as tf\n",
        "import numpy as np\n",
        "import matplotlib.pyplot as plt\n",
        "# print(tf.version.VERSION)\n"
      ]
    },
    {
      "cell_type": "code",
      "source": [
        "#Create features\n",
        "np.random.seed(42)\n",
        "# X = np.random.randint(1,10, 8)\n",
        "X = np.array([-7.0, -4.0, -1.0, 2.0, 5.0, 8.0, 11.0, 14.0])\n",
        "\n",
        "#Create labels\n",
        "y = np.array([3.0, 6.0, 9.0, 12.0, 15.0, 18.0, 21.0, 24.0])\n",
        "\n",
        "#Visualize it\n",
        "# plt.scatter(X,y)\n",
        "#requires a semicolon in the end to only get the plot\n",
        "plt.scatter(X,y);\n"
      ],
      "metadata": {
        "colab": {
          "base_uri": "https://localhost:8080/",
          "height": 268
        },
        "id": "RnuBLOL9TmQ-",
        "outputId": "6b79257b-595d-4dd0-caa6-23750308dae1"
      },
      "execution_count": null,
      "outputs": [
        {
          "output_type": "display_data",
          "data": {
            "image/png": "[encoded data removed]",
            "text/plain": [
              "<Figure size 432x288 with 1 Axes>"
            ]
          },
          "metadata": {
            "needs_background": "light"
          }
        }
      ]
    },
    {
      "cell_type": "code",
      "source": [
        "#manipulate x to get y\n",
        "# X = X +10\n",
        "y == X + 10"
      ],
      "metadata": {
        "colab": {
          "base_uri": "https://localhost:8080/"
        },
        "id": "5Vzd2xVBY6Ei",
        "outputId": "113e5699-8306-4a1e-b1fe-9e0409aa1384"
      },
      "execution_count": null,
      "outputs": [
        {
          "output_type": "execute_result",
          "data": {
            "text/plain": [
              "array([ True,  True,  True,  True,  True,  True,  True,  True])"
            ]
          },
          "metadata": {},
          "execution_count": 63
        }
      ]
    },
    {
      "cell_type": "code",
      "source": [
        "#demo tensor for housing price prediction problem\n",
        "house_info = tf.constant([\"bedroom\", \"bathroom\", \"garage\"])\n",
        "house_price = tf.constant([939700])\n",
        "house_info, house_price"
      ],
      "metadata": {
        "colab": {
          "base_uri": "https://localhost:8080/"
        },
        "id": "-cSNSnT-Y6HZ",
        "outputId": "772f7841-8464-4eb6-ddaa-bd4b4fbb0b4d"
      },
      "execution_count": null,
      "outputs": [
        {
          "output_type": "execute_result",
          "data": {
            "text/plain": [
              "(<tf.Tensor: shape=(3,), dtype=string, numpy=array([b'bedroom', b'bathroom', b'garage'], dtype=object)>,\n",
              " <tf.Tensor: shape=(1,), dtype=int32, numpy=array([939700], dtype=int32)>)"
            ]
          },
          "metadata": {},
          "execution_count": 64
        }
      ]
    },
    {
      "cell_type": "code",
      "source": [
        "input_shape = X[0].shape\n",
        "output_shape = y[0].shape\n",
        "input_shape, output_shape"
      ],
      "metadata": {
        "colab": {
          "base_uri": "https://localhost:8080/"
        },
        "id": "iZvxYG4nY6KB",
        "outputId": "6875b966-fdc7-4080-f0a3-ef7ed35b0d15"
      },
      "execution_count": null,
      "outputs": [
        {
          "output_type": "execute_result",
          "data": {
            "text/plain": [
              "((), ())"
            ]
          },
          "metadata": {},
          "execution_count": 65
        }
      ]
    },
    {
      "cell_type": "code",
      "source": [
        "#numpy array to constant\n",
        "X[0].ndim"
      ],
      "metadata": {
        "colab": {
          "base_uri": "https://localhost:8080/"
        },
        "id": "w0CFP_4gAt-Q",
        "outputId": "607ae7af-45e5-4255-8d48-24bc39fb77dc"
      },
      "execution_count": null,
      "outputs": [
        {
          "output_type": "execute_result",
          "data": {
            "text/plain": [
              "0"
            ]
          },
          "metadata": {},
          "execution_count": 66
        }
      ]
    },
    {
      "cell_type": "code",
      "source": [
        "X[0],y[0]"
      ],
      "metadata": {
        "colab": {
          "base_uri": "https://localhost:8080/"
        },
        "id": "1PK7kj3AY6Mh",
        "outputId": "49d56d2e-d752-4bbc-b81c-d0cd69c46989"
      },
      "execution_count": null,
      "outputs": [
        {
          "output_type": "execute_result",
          "data": {
            "text/plain": [
              "(-7.0, 3.0)"
            ]
          },
          "metadata": {},
          "execution_count": 67
        }
      ]
    },
    {
      "cell_type": "code",
      "source": [
        "#numpy array to tensor\n",
        "X= tf.cast(tf.constant(X), dtype = tf.float32)\n",
        "#tf.reshape(x, shape= (2,3))\n",
        "X= tf.reshape(X, shape=(4,2))\n",
        "y = tf.cast(tf.constant(y), dtype = tf.float32)  \n",
        "y= tf.reshape(y, shape=(4,2))\n",
        "X,y"
      ],
      "metadata": {
        "colab": {
          "base_uri": "https://localhost:8080/"
        },
        "id": "_D6RNM87Y6PK",
        "outputId": "ce5d3689-57ed-4328-d976-e054c038019b"
      },
      "execution_count": null,
      "outputs": [
        {
          "output_type": "execute_result",
          "data": {
            "text/plain": [
              "(<tf.Tensor: shape=(4, 2), dtype=float32, numpy=\n",
              " array([[-7., -4.],\n",
              "        [-1.,  2.],\n",
              "        [ 5.,  8.],\n",
              "        [11., 14.]], dtype=float32)>,\n",
              " <tf.Tensor: shape=(4, 2), dtype=float32, numpy=\n",
              " array([[ 3.,  6.],\n",
              "        [ 9., 12.],\n",
              "        [15., 18.],\n",
              "        [21., 24.]], dtype=float32)>)"
            ]
          },
          "metadata": {},
          "execution_count": 8
        }
      ]
    },
    {
      "cell_type": "code",
      "source": [
        "input_shape = X[0].shape\n",
        "output_shape = y[0].shape\n",
        "input_shape, output_shape"
      ],
      "metadata": {
        "colab": {
          "base_uri": "https://localhost:8080/"
        },
        "id": "KFnXkhzQY6Rx",
        "outputId": "6adcea7a-fe92-4651-8b0a-1f5820b9b726"
      },
      "execution_count": null,
      "outputs": [
        {
          "output_type": "execute_result",
          "data": {
            "text/plain": [
              "(TensorShape([2]), TensorShape([2]))"
            ]
          },
          "metadata": {},
          "execution_count": 9
        }
      ]
    },
    {
      "cell_type": "code",
      "source": [
        "plt.scatter(X,y)"
      ],
      "metadata": {
        "colab": {
          "base_uri": "https://localhost:8080/",
          "height": 286
        },
        "id": "7dtWQ0nwTmTm",
        "outputId": "d369a7ac-7e90-4ea5-ab1e-eefbca75bb0b"
      },
      "execution_count": null,
      "outputs": [
        {
          "output_type": "execute_result",
          "data": {
            "text/plain": [
              "<matplotlib.collections.PathCollection at 0x7f7f8a98c250>"
            ]
          },
          "metadata": {},
          "execution_count": 10
        },
        {
          "output_type": "display_data",
          "data": {
            "image/png": "[encoded data removed]",
            "text/plain": [
              "<Figure size 432x288 with 1 Axes>"
            ]
          },
          "metadata": {
            "needs_background": "light"
          }
        }
      ]
    },
    {
      "cell_type": "code",
      "source": [
        "X.ndim"
      ],
      "metadata": {
        "colab": {
          "base_uri": "https://localhost:8080/"
        },
        "id": "99FK17KGVsg7",
        "outputId": "4a3abbd8-f79e-445f-e755-c1943028d418"
      },
      "execution_count": null,
      "outputs": [
        {
          "output_type": "execute_result",
          "data": {
            "text/plain": [
              "2"
            ]
          },
          "metadata": {},
          "execution_count": 11
        }
      ]
    },
    {
      "cell_type": "code",
      "source": [
        "#steps in modeling with tensor flow\n",
        "\n",
        "#set random seed\n",
        "tf.random.set_seed(42)\n",
        "\n",
        "# 1. Create a model using the Sequential API\n",
        "model = tf.keras.Sequential([ tf.keras.layers.Dense(1) ])\n",
        "\n",
        "# 2. Compile the model comprises of loss and optimizer\n",
        "model.compile(loss = tf.keras.losses.mae, optimizer = tf.keras.optimizers.SGD(), metrics = [\"mae\"])\n",
        "\n",
        "# 3. Fit the model\n",
        "model.fit(X, y, epochs = 5)"
      ],
      "metadata": {
        "colab": {
          "base_uri": "https://localhost:8080/"
        },
        "id": "kE7UkoSNTmWN",
        "outputId": "39280e0d-d3a6-405d-a83c-e84baee7cad3"
      },
      "execution_count": null,
      "outputs": [
        {
          "output_type": "stream",
          "name": "stdout",
          "text": [
            "Epoch 1/5\n",
            "1/1 [==============================] - 1s 1s/step - loss: 13.4034 - mae: 13.4034\n",
            "Epoch 2/5\n",
            "1/1 [==============================] - 0s 11ms/step - loss: 13.1034 - mae: 13.1034\n",
            "Epoch 3/5\n",
            "1/1 [==============================] - 0s 11ms/step - loss: 12.8034 - mae: 12.8034\n",
            "Epoch 4/5\n",
            "1/1 [==============================] - 0s 9ms/step - loss: 12.5034 - mae: 12.5034\n",
            "Epoch 5/5\n",
            "1/1 [==============================] - 0s 12ms/step - loss: 12.2034 - mae: 12.2034\n"
          ]
        },
        {
          "output_type": "execute_result",
          "data": {
            "text/plain": [
              "<keras.callbacks.History at 0x7f7f862de610>"
            ]
          },
          "metadata": {},
          "execution_count": 12
        }
      ]
    },
    {
      "cell_type": "code",
      "source": [
        "tf.keras.utils.plot_model(model)"
      ],
      "metadata": {
        "colab": {
          "base_uri": "https://localhost:8080/",
          "height": 174
        },
        "id": "Qbuz88t0T_BV",
        "outputId": "2180243c-7940-4521-9027-227dfba983f9"
      },
      "execution_count": null,
      "outputs": [
        {
          "output_type": "execute_result",
          "data": {
            "image/png": "[encoded data removed]",
            "text/plain": [
              "<IPython.core.display.Image object>"
            ]
          },
          "metadata": {},
          "execution_count": 13
        }
      ]
    },
    {
      "cell_type": "code",
      "source": [
        "X, y"
      ],
      "metadata": {
        "colab": {
          "base_uri": "https://localhost:8080/"
        },
        "id": "cMkPTSAeTmZV",
        "outputId": "d9df432a-020f-4bdf-8eae-727472072e7a"
      },
      "execution_count": null,
      "outputs": [
        {
          "output_type": "execute_result",
          "data": {
            "text/plain": [
              "(<tf.Tensor: shape=(4, 2), dtype=float32, numpy=\n",
              " array([[-7., -4.],\n",
              "        [-1.,  2.],\n",
              "        [ 5.,  8.],\n",
              "        [11., 14.]], dtype=float32)>,\n",
              " <tf.Tensor: shape=(4, 2), dtype=float32, numpy=\n",
              " array([[ 3.,  6.],\n",
              "        [ 9., 12.],\n",
              "        [15., 18.],\n",
              "        [21., 24.]], dtype=float32)>)"
            ]
          },
          "metadata": {},
          "execution_count": 14
        }
      ]
    },
    {
      "cell_type": "code",
      "source": [
        "y_pred = model.predict([ [17.0,20.0] ])\n",
        "y_pred"
      ],
      "metadata": {
        "colab": {
          "base_uri": "https://localhost:8080/"
        },
        "id": "j4xDN172Tmct",
        "outputId": "242daf50-aaaa-451f-c96e-51b5df4b86d3"
      },
      "execution_count": null,
      "outputs": [
        {
          "output_type": "execute_result",
          "data": {
            "text/plain": [
              "array([[11.3255205]], dtype=float32)"
            ]
          },
          "metadata": {},
          "execution_count": 15
        }
      ]
    },
    {
      "cell_type": "code",
      "source": [
        "y_pred = y_pred +11\n",
        "y_pred"
      ],
      "metadata": {
        "colab": {
          "base_uri": "https://localhost:8080/"
        },
        "id": "nk8-CzpbTmfd",
        "outputId": "990c6857-7936-4501-b00f-448b811637f0"
      },
      "execution_count": null,
      "outputs": [
        {
          "output_type": "execute_result",
          "data": {
            "text/plain": [
              "array([[22.32552]], dtype=float32)"
            ]
          },
          "metadata": {},
          "execution_count": 16
        }
      ]
    },
    {
      "cell_type": "code",
      "source": [
        "#Improving model\n",
        "#we can do this my altering the steps we took to create a model\n",
        "# 1. Increase number of hidden units in each hidden layers + change the activation function of each layer\n",
        "# 2. **Compiling a model - change optimization option or change the learning rate\n",
        "# 3. Fitting a model - here we might fit a model for more epochs or more input data"
      ],
      "metadata": {
        "id": "9MX7MGRbTmiN"
      },
      "execution_count": null,
      "outputs": []
    },
    {
      "cell_type": "code",
      "source": [
        "#rebuilding model\n",
        "\n",
        "#1. create model\n",
        "model = tf.keras.Sequential([tf.keras.layers.Dense(1)])\n",
        "\n",
        "#2. Compile Model\n",
        "model.compile(loss=tf.keras.losses.mae, optimizer = tf.keras.optimizers.SGD(), metrics = [\"mae\"])\n",
        "\n",
        "#3. Fit the model (with more number of epochs)\n",
        "model.fit(X,y, epochs = 100)"
      ],
      "metadata": {
        "colab": {
          "base_uri": "https://localhost:8080/"
        },
        "id": "6Q7XQDpoTmk_",
        "outputId": "e0ad7f4c-e53e-4610-a315-37c559353dfe"
      },
      "execution_count": null,
      "outputs": [
        {
          "output_type": "stream",
          "name": "stdout",
          "text": [
            "Epoch 1/100\n",
            "1/1 [==============================] - 1s 714ms/step - loss: 12.6566 - mae: 12.6566\n",
            "Epoch 2/100\n",
            "1/1 [==============================] - 0s 21ms/step - loss: 12.3566 - mae: 12.3566\n",
            "Epoch 3/100\n",
            "1/1 [==============================] - 0s 15ms/step - loss: 12.0566 - mae: 12.0566\n",
            "Epoch 4/100\n",
            "1/1 [==============================] - 0s 6ms/step - loss: 11.7566 - mae: 11.7566\n",
            "Epoch 5/100\n",
            "1/1 [==============================] - 0s 6ms/step - loss: 11.4566 - mae: 11.4566\n",
            "Epoch 6/100\n",
            "1/1 [==============================] - 0s 13ms/step - loss: 11.1566 - mae: 11.1566\n",
            "Epoch 7/100\n",
            "1/1 [==============================] - 0s 6ms/step - loss: 10.8566 - mae: 10.8566\n",
            "Epoch 8/100\n",
            "1/1 [==============================] - 0s 7ms/step - loss: 10.5566 - mae: 10.5566\n",
            "Epoch 9/100\n",
            "1/1 [==============================] - 0s 8ms/step - loss: 10.2566 - mae: 10.2566\n",
            "Epoch 10/100\n",
            "1/1 [==============================] - 0s 7ms/step - loss: 9.9566 - mae: 9.9566\n",
            "Epoch 11/100\n",
            "1/1 [==============================] - 0s 8ms/step - loss: 9.6566 - mae: 9.6566\n",
            "Epoch 12/100\n",
            "1/1 [==============================] - 0s 6ms/step - loss: 9.3566 - mae: 9.3566\n",
            "Epoch 13/100\n",
            "1/1 [==============================] - 0s 17ms/step - loss: 9.0566 - mae: 9.0566\n",
            "Epoch 14/100\n",
            "1/1 [==============================] - 0s 8ms/step - loss: 8.7566 - mae: 8.7566\n",
            "Epoch 15/100\n",
            "1/1 [==============================] - 0s 13ms/step - loss: 8.4566 - mae: 8.4566\n",
            "Epoch 16/100\n",
            "1/1 [==============================] - 0s 17ms/step - loss: 8.1566 - mae: 8.1566\n",
            "Epoch 17/100\n",
            "1/1 [==============================] - 0s 20ms/step - loss: 7.8566 - mae: 7.8566\n",
            "Epoch 18/100\n",
            "1/1 [==============================] - 0s 10ms/step - loss: 7.5669 - mae: 7.5669\n",
            "Epoch 19/100\n",
            "1/1 [==============================] - 0s 24ms/step - loss: 7.5332 - mae: 7.5332\n",
            "Epoch 20/100\n",
            "1/1 [==============================] - 0s 14ms/step - loss: 7.4994 - mae: 7.4994\n",
            "Epoch 21/100\n",
            "1/1 [==============================] - 0s 9ms/step - loss: 7.4657 - mae: 7.4657\n",
            "Epoch 22/100\n",
            "1/1 [==============================] - 0s 7ms/step - loss: 7.4319 - mae: 7.4319\n",
            "Epoch 23/100\n",
            "1/1 [==============================] - 0s 8ms/step - loss: 7.3982 - mae: 7.3982\n",
            "Epoch 24/100\n",
            "1/1 [==============================] - 0s 11ms/step - loss: 7.3644 - mae: 7.3644\n",
            "Epoch 25/100\n",
            "1/1 [==============================] - 0s 7ms/step - loss: 7.3307 - mae: 7.3307\n",
            "Epoch 26/100\n",
            "1/1 [==============================] - 0s 7ms/step - loss: 7.2969 - mae: 7.2969\n",
            "Epoch 27/100\n",
            "1/1 [==============================] - 0s 10ms/step - loss: 7.2632 - mae: 7.2632\n",
            "Epoch 28/100\n",
            "1/1 [==============================] - 0s 6ms/step - loss: 7.2294 - mae: 7.2294\n",
            "Epoch 29/100\n",
            "1/1 [==============================] - 0s 6ms/step - loss: 7.1957 - mae: 7.1957\n",
            "Epoch 30/100\n",
            "1/1 [==============================] - 0s 15ms/step - loss: 7.1619 - mae: 7.1619\n",
            "Epoch 31/100\n",
            "1/1 [==============================] - 0s 18ms/step - loss: 7.1282 - mae: 7.1282\n",
            "Epoch 32/100\n",
            "1/1 [==============================] - 0s 25ms/step - loss: 7.0944 - mae: 7.0944\n",
            "Epoch 33/100\n",
            "1/1 [==============================] - 0s 14ms/step - loss: 7.0607 - mae: 7.0607\n",
            "Epoch 34/100\n",
            "1/1 [==============================] - 0s 12ms/step - loss: 7.0269 - mae: 7.0269\n",
            "Epoch 35/100\n",
            "1/1 [==============================] - 0s 16ms/step - loss: 6.9932 - mae: 6.9932\n",
            "Epoch 36/100\n",
            "1/1 [==============================] - 0s 15ms/step - loss: 6.9594 - mae: 6.9594\n",
            "Epoch 37/100\n",
            "1/1 [==============================] - 0s 10ms/step - loss: 6.9257 - mae: 6.9257\n",
            "Epoch 38/100\n",
            "1/1 [==============================] - 0s 9ms/step - loss: 6.8919 - mae: 6.8919\n",
            "Epoch 39/100\n",
            "1/1 [==============================] - 0s 19ms/step - loss: 6.8582 - mae: 6.8582\n",
            "Epoch 40/100\n",
            "1/1 [==============================] - 0s 28ms/step - loss: 6.8272 - mae: 6.8272\n",
            "Epoch 41/100\n",
            "1/1 [==============================] - 0s 15ms/step - loss: 6.8244 - mae: 6.8244\n",
            "Epoch 42/100\n",
            "1/1 [==============================] - 0s 13ms/step - loss: 6.7907 - mae: 6.7907\n",
            "Epoch 43/100\n",
            "1/1 [==============================] - 0s 9ms/step - loss: 6.7569 - mae: 6.7569\n",
            "Epoch 44/100\n",
            "1/1 [==============================] - 0s 10ms/step - loss: 6.7232 - mae: 6.7232\n",
            "Epoch 45/100\n",
            "1/1 [==============================] - 0s 12ms/step - loss: 6.6894 - mae: 6.6894\n",
            "Epoch 46/100\n",
            "1/1 [==============================] - 0s 15ms/step - loss: 6.6622 - mae: 6.6622\n",
            "Epoch 47/100\n",
            "1/1 [==============================] - 0s 18ms/step - loss: 6.6557 - mae: 6.6557\n",
            "Epoch 48/100\n",
            "1/1 [==============================] - 0s 13ms/step - loss: 6.6219 - mae: 6.6219\n",
            "Epoch 49/100\n",
            "1/1 [==============================] - 0s 17ms/step - loss: 6.5882 - mae: 6.5882\n",
            "Epoch 50/100\n",
            "1/1 [==============================] - 0s 23ms/step - loss: 6.5544 - mae: 6.5544\n",
            "Epoch 51/100\n",
            "1/1 [==============================] - 0s 17ms/step - loss: 6.5207 - mae: 6.5207\n",
            "Epoch 52/100\n",
            "1/1 [==============================] - 0s 16ms/step - loss: 6.4972 - mae: 6.4972\n",
            "Epoch 53/100\n",
            "1/1 [==============================] - 0s 38ms/step - loss: 6.4869 - mae: 6.4869\n",
            "Epoch 54/100\n",
            "1/1 [==============================] - 0s 13ms/step - loss: 6.4532 - mae: 6.4532\n",
            "Epoch 55/100\n",
            "1/1 [==============================] - 0s 16ms/step - loss: 6.4194 - mae: 6.4194\n",
            "Epoch 56/100\n",
            "1/1 [==============================] - 0s 13ms/step - loss: 6.3857 - mae: 6.3857\n",
            "Epoch 57/100\n",
            "1/1 [==============================] - 0s 16ms/step - loss: 6.3519 - mae: 6.3519\n",
            "Epoch 58/100\n",
            "1/1 [==============================] - 0s 21ms/step - loss: 6.3322 - mae: 6.3322\n",
            "Epoch 59/100\n",
            "1/1 [==============================] - 0s 12ms/step - loss: 6.3182 - mae: 6.3182\n",
            "Epoch 60/100\n",
            "1/1 [==============================] - 0s 10ms/step - loss: 6.2844 - mae: 6.2844\n",
            "Epoch 61/100\n",
            "1/1 [==============================] - 0s 10ms/step - loss: 6.2507 - mae: 6.2507\n",
            "Epoch 62/100\n",
            "1/1 [==============================] - 0s 11ms/step - loss: 6.2169 - mae: 6.2169\n",
            "Epoch 63/100\n",
            "1/1 [==============================] - 0s 22ms/step - loss: 6.1832 - mae: 6.1832\n",
            "Epoch 64/100\n",
            "1/1 [==============================] - 0s 11ms/step - loss: 6.1672 - mae: 6.1672\n",
            "Epoch 65/100\n",
            "1/1 [==============================] - 0s 11ms/step - loss: 6.1494 - mae: 6.1494\n",
            "Epoch 66/100\n",
            "1/1 [==============================] - 0s 14ms/step - loss: 6.1157 - mae: 6.1157\n",
            "Epoch 67/100\n",
            "1/1 [==============================] - 0s 13ms/step - loss: 6.0819 - mae: 6.0819\n",
            "Epoch 68/100\n",
            "1/1 [==============================] - 0s 9ms/step - loss: 6.0482 - mae: 6.0482\n",
            "Epoch 69/100\n",
            "1/1 [==============================] - 0s 24ms/step - loss: 6.0144 - mae: 6.0144\n",
            "Epoch 70/100\n",
            "1/1 [==============================] - 0s 14ms/step - loss: 6.0022 - mae: 6.0022\n",
            "Epoch 71/100\n",
            "1/1 [==============================] - 0s 10ms/step - loss: 5.9807 - mae: 5.9807\n",
            "Epoch 72/100\n",
            "1/1 [==============================] - 0s 15ms/step - loss: 5.9469 - mae: 5.9469\n",
            "Epoch 73/100\n",
            "1/1 [==============================] - 0s 9ms/step - loss: 5.9132 - mae: 5.9132\n",
            "Epoch 74/100\n",
            "1/1 [==============================] - 0s 10ms/step - loss: 5.8794 - mae: 5.8794\n",
            "Epoch 75/100\n",
            "1/1 [==============================] - 0s 16ms/step - loss: 5.8457 - mae: 5.8457\n",
            "Epoch 76/100\n",
            "1/1 [==============================] - 0s 15ms/step - loss: 5.8372 - mae: 5.8372\n",
            "Epoch 77/100\n",
            "1/1 [==============================] - 0s 25ms/step - loss: 5.8119 - mae: 5.8119\n",
            "Epoch 78/100\n",
            "1/1 [==============================] - 0s 17ms/step - loss: 5.7782 - mae: 5.7782\n",
            "Epoch 79/100\n",
            "1/1 [==============================] - 0s 15ms/step - loss: 5.7444 - mae: 5.7444\n",
            "Epoch 80/100\n",
            "1/1 [==============================] - 0s 14ms/step - loss: 5.7107 - mae: 5.7107\n",
            "Epoch 81/100\n",
            "1/1 [==============================] - 0s 7ms/step - loss: 5.6769 - mae: 5.6769\n",
            "Epoch 82/100\n",
            "1/1 [==============================] - 0s 6ms/step - loss: 5.6722 - mae: 5.6722\n",
            "Epoch 83/100\n",
            "1/1 [==============================] - 0s 8ms/step - loss: 5.6432 - mae: 5.6432\n",
            "Epoch 84/100\n",
            "1/1 [==============================] - 0s 6ms/step - loss: 5.6094 - mae: 5.6094\n",
            "Epoch 85/100\n",
            "1/1 [==============================] - 0s 9ms/step - loss: 5.5757 - mae: 5.5757\n",
            "Epoch 86/100\n",
            "1/1 [==============================] - 0s 37ms/step - loss: 5.5419 - mae: 5.5419\n",
            "Epoch 87/100\n",
            "1/1 [==============================] - 0s 24ms/step - loss: 5.5082 - mae: 5.5082\n",
            "Epoch 88/100\n",
            "1/1 [==============================] - 0s 20ms/step - loss: 5.5072 - mae: 5.5072\n",
            "Epoch 89/100\n",
            "1/1 [==============================] - 0s 16ms/step - loss: 5.4744 - mae: 5.4744\n",
            "Epoch 90/100\n",
            "1/1 [==============================] - 0s 16ms/step - loss: 5.4407 - mae: 5.4407\n",
            "Epoch 91/100\n",
            "1/1 [==============================] - 0s 19ms/step - loss: 5.4069 - mae: 5.4069\n",
            "Epoch 92/100\n",
            "1/1 [==============================] - 0s 12ms/step - loss: 5.3732 - mae: 5.3732\n",
            "Epoch 93/100\n",
            "1/1 [==============================] - 0s 9ms/step - loss: 5.3422 - mae: 5.3422\n",
            "Epoch 94/100\n",
            "1/1 [==============================] - 0s 9ms/step - loss: 5.3394 - mae: 5.3394\n",
            "Epoch 95/100\n",
            "1/1 [==============================] - 0s 7ms/step - loss: 5.3057 - mae: 5.3057\n",
            "Epoch 96/100\n",
            "1/1 [==============================] - 0s 10ms/step - loss: 5.2719 - mae: 5.2719\n",
            "Epoch 97/100\n",
            "1/1 [==============================] - 0s 18ms/step - loss: 5.2382 - mae: 5.2382\n",
            "Epoch 98/100\n",
            "1/1 [==============================] - 0s 16ms/step - loss: 5.2044 - mae: 5.2044\n",
            "Epoch 99/100\n",
            "1/1 [==============================] - 0s 14ms/step - loss: 5.1772 - mae: 5.1772\n",
            "Epoch 100/100\n",
            "1/1 [==============================] - 0s 41ms/step - loss: 5.1707 - mae: 5.1707\n"
          ]
        },
        {
          "output_type": "execute_result",
          "data": {
            "text/plain": [
              "<keras.callbacks.History at 0x7f7f84a60d10>"
            ]
          },
          "metadata": {},
          "execution_count": 18
        }
      ]
    },
    {
      "cell_type": "code",
      "source": [
        "#Remind ourselves of the data\n",
        "X,y"
      ],
      "metadata": {
        "colab": {
          "base_uri": "https://localhost:8080/"
        },
        "id": "Cj7odTI9Zk4I",
        "outputId": "fb869e41-dde2-47a6-fdd7-a6247f316f86"
      },
      "execution_count": null,
      "outputs": [
        {
          "output_type": "execute_result",
          "data": {
            "text/plain": [
              "(<tf.Tensor: shape=(4, 2), dtype=float32, numpy=\n",
              " array([[-7., -4.],\n",
              "        [-1.,  2.],\n",
              "        [ 5.,  8.],\n",
              "        [11., 14.]], dtype=float32)>,\n",
              " <tf.Tensor: shape=(4, 2), dtype=float32, numpy=\n",
              " array([[ 3.,  6.],\n",
              "        [ 9., 12.],\n",
              "        [15., 18.],\n",
              "        [21., 24.]], dtype=float32)>)"
            ]
          },
          "metadata": {},
          "execution_count": 19
        }
      ]
    },
    {
      "cell_type": "code",
      "source": [
        "#Lets seee if our prediction result has improved\n",
        "model.predict([ [17.0,20.0] ])"
      ],
      "metadata": {
        "colab": {
          "base_uri": "https://localhost:8080/"
        },
        "id": "Yva80MN9Zk9n",
        "outputId": "c5cb9332-03a5-4fe8-89fa-c8450a24fd65"
      },
      "execution_count": null,
      "outputs": [
        {
          "output_type": "execute_result",
          "data": {
            "text/plain": [
              "array([[33.1764]], dtype=float32)"
            ]
          },
          "metadata": {},
          "execution_count": 20
        }
      ]
    },
    {
      "cell_type": "code",
      "source": [
        "#rebuilding model change optimizer on top of increased number of epochs\n",
        "\n",
        "#1. create model\n",
        "model = tf.keras.Sequential([tf.keras.layers.Dense(1)])\n",
        "\n",
        "#2. Compile Model\n",
        "model.compile(loss=tf.keras.losses.mae, optimizer = tf.keras.optimizers.SGD(), metrics = [\"mae\"])\n",
        "\n",
        "#3. Fit the model (with more number of epochs)\n",
        "model.fit(X,y, epochs = 100)"
      ],
      "metadata": {
        "colab": {
          "base_uri": "https://localhost:8080/"
        },
        "id": "7NpdfPe-ZlAf",
        "outputId": "6fda72fd-95e8-4f82-c73c-016c7aad8acb"
      },
      "execution_count": null,
      "outputs": [
        {
          "output_type": "stream",
          "name": "stdout",
          "text": [
            "Epoch 1/100\n",
            "1/1 [==============================] - 1s 849ms/step - loss: 10.3167 - mae: 10.3167\n",
            "Epoch 2/100\n",
            "1/1 [==============================] - 0s 18ms/step - loss: 10.0167 - mae: 10.0167\n",
            "Epoch 3/100\n",
            "1/1 [==============================] - 0s 8ms/step - loss: 9.7167 - mae: 9.7167\n",
            "Epoch 4/100\n",
            "1/1 [==============================] - 0s 12ms/step - loss: 9.4167 - mae: 9.4167\n",
            "Epoch 5/100\n",
            "1/1 [==============================] - 0s 8ms/step - loss: 9.1167 - mae: 9.1167\n",
            "Epoch 6/100\n",
            "1/1 [==============================] - 0s 10ms/step - loss: 8.8167 - mae: 8.8167\n",
            "Epoch 7/100\n",
            "1/1 [==============================] - 0s 7ms/step - loss: 8.5167 - mae: 8.5167\n",
            "Epoch 8/100\n",
            "1/1 [==============================] - 0s 8ms/step - loss: 8.2167 - mae: 8.2167\n",
            "Epoch 9/100\n",
            "1/1 [==============================] - 0s 7ms/step - loss: 7.9167 - mae: 7.9167\n",
            "Epoch 10/100\n",
            "1/1 [==============================] - 0s 16ms/step - loss: 7.6167 - mae: 7.6167\n",
            "Epoch 11/100\n",
            "1/1 [==============================] - 0s 10ms/step - loss: 7.5416 - mae: 7.5416\n",
            "Epoch 12/100\n",
            "1/1 [==============================] - 0s 13ms/step - loss: 7.5079 - mae: 7.5079\n",
            "Epoch 13/100\n",
            "1/1 [==============================] - 0s 11ms/step - loss: 7.4741 - mae: 7.4741\n",
            "Epoch 14/100\n",
            "1/1 [==============================] - 0s 7ms/step - loss: 7.4404 - mae: 7.4404\n",
            "Epoch 15/100\n",
            "1/1 [==============================] - 0s 8ms/step - loss: 7.4066 - mae: 7.4066\n",
            "Epoch 16/100\n",
            "1/1 [==============================] - 0s 17ms/step - loss: 7.3729 - mae: 7.3729\n",
            "Epoch 17/100\n",
            "1/1 [==============================] - 0s 19ms/step - loss: 7.3391 - mae: 7.3391\n",
            "Epoch 18/100\n",
            "1/1 [==============================] - 0s 8ms/step - loss: 7.3054 - mae: 7.3054\n",
            "Epoch 19/100\n",
            "1/1 [==============================] - 0s 8ms/step - loss: 7.2716 - mae: 7.2716\n",
            "Epoch 20/100\n",
            "1/1 [==============================] - 0s 29ms/step - loss: 7.2379 - mae: 7.2379\n",
            "Epoch 21/100\n",
            "1/1 [==============================] - 0s 18ms/step - loss: 7.2041 - mae: 7.2041\n",
            "Epoch 22/100\n",
            "1/1 [==============================] - 0s 24ms/step - loss: 7.1704 - mae: 7.1704\n",
            "Epoch 23/100\n",
            "1/1 [==============================] - 0s 12ms/step - loss: 7.1366 - mae: 7.1366\n",
            "Epoch 24/100\n",
            "1/1 [==============================] - 0s 14ms/step - loss: 7.1029 - mae: 7.1029\n",
            "Epoch 25/100\n",
            "1/1 [==============================] - 0s 14ms/step - loss: 7.0691 - mae: 7.0691\n",
            "Epoch 26/100\n",
            "1/1 [==============================] - 0s 22ms/step - loss: 7.0354 - mae: 7.0354\n",
            "Epoch 27/100\n",
            "1/1 [==============================] - 0s 15ms/step - loss: 7.0166 - mae: 7.0166\n",
            "Epoch 28/100\n",
            "1/1 [==============================] - 0s 24ms/step - loss: 7.0016 - mae: 7.0016\n",
            "Epoch 29/100\n",
            "1/1 [==============================] - 0s 21ms/step - loss: 6.9679 - mae: 6.9679\n",
            "Epoch 30/100\n",
            "1/1 [==============================] - 0s 12ms/step - loss: 6.9341 - mae: 6.9341\n",
            "Epoch 31/100\n",
            "1/1 [==============================] - 0s 20ms/step - loss: 6.9004 - mae: 6.9004\n",
            "Epoch 32/100\n",
            "1/1 [==============================] - 0s 21ms/step - loss: 6.8666 - mae: 6.8666\n",
            "Epoch 33/100\n",
            "1/1 [==============================] - 0s 34ms/step - loss: 6.8516 - mae: 6.8516\n",
            "Epoch 34/100\n",
            "1/1 [==============================] - 0s 24ms/step - loss: 6.8329 - mae: 6.8329\n",
            "Epoch 35/100\n",
            "1/1 [==============================] - 0s 38ms/step - loss: 6.7991 - mae: 6.7991\n",
            "Epoch 36/100\n",
            "1/1 [==============================] - 0s 18ms/step - loss: 6.7654 - mae: 6.7654\n",
            "Epoch 37/100\n",
            "1/1 [==============================] - 0s 9ms/step - loss: 6.7316 - mae: 6.7316\n",
            "Epoch 38/100\n",
            "1/1 [==============================] - 0s 28ms/step - loss: 6.6979 - mae: 6.6979\n",
            "Epoch 39/100\n",
            "1/1 [==============================] - 0s 9ms/step - loss: 6.6866 - mae: 6.6866\n",
            "Epoch 40/100\n",
            "1/1 [==============================] - 0s 18ms/step - loss: 6.6641 - mae: 6.6641\n",
            "Epoch 41/100\n",
            "1/1 [==============================] - 0s 16ms/step - loss: 6.6304 - mae: 6.6304\n",
            "Epoch 42/100\n",
            "1/1 [==============================] - 0s 13ms/step - loss: 6.5966 - mae: 6.5966\n",
            "Epoch 43/100\n",
            "1/1 [==============================] - 0s 15ms/step - loss: 6.5629 - mae: 6.5629\n",
            "Epoch 44/100\n",
            "1/1 [==============================] - 0s 7ms/step - loss: 6.5291 - mae: 6.5291\n",
            "Epoch 45/100\n",
            "1/1 [==============================] - 0s 7ms/step - loss: 6.5216 - mae: 6.5216\n",
            "Epoch 46/100\n",
            "1/1 [==============================] - 0s 6ms/step - loss: 6.4954 - mae: 6.4954\n",
            "Epoch 47/100\n",
            "1/1 [==============================] - 0s 16ms/step - loss: 6.4616 - mae: 6.4616\n",
            "Epoch 48/100\n",
            "1/1 [==============================] - 0s 11ms/step - loss: 6.4279 - mae: 6.4279\n",
            "Epoch 49/100\n",
            "1/1 [==============================] - 0s 8ms/step - loss: 6.3941 - mae: 6.3941\n",
            "Epoch 50/100\n",
            "1/1 [==============================] - 0s 23ms/step - loss: 6.3604 - mae: 6.3604\n",
            "Epoch 51/100\n",
            "1/1 [==============================] - 0s 13ms/step - loss: 6.3566 - mae: 6.3566\n",
            "Epoch 52/100\n",
            "1/1 [==============================] - 0s 22ms/step - loss: 6.3266 - mae: 6.3266\n",
            "Epoch 53/100\n",
            "1/1 [==============================] - 0s 25ms/step - loss: 6.2929 - mae: 6.2929\n",
            "Epoch 54/100\n",
            "1/1 [==============================] - 0s 11ms/step - loss: 6.2591 - mae: 6.2591\n",
            "Epoch 55/100\n",
            "1/1 [==============================] - 0s 17ms/step - loss: 6.2254 - mae: 6.2254\n",
            "Epoch 56/100\n",
            "1/1 [==============================] - 0s 18ms/step - loss: 6.1916 - mae: 6.1916\n",
            "Epoch 57/100\n",
            "1/1 [==============================] - 0s 14ms/step - loss: 6.1916 - mae: 6.1916\n",
            "Epoch 58/100\n",
            "1/1 [==============================] - 0s 14ms/step - loss: 6.1579 - mae: 6.1579\n",
            "Epoch 59/100\n",
            "1/1 [==============================] - 0s 8ms/step - loss: 6.1241 - mae: 6.1241\n",
            "Epoch 60/100\n",
            "1/1 [==============================] - 0s 9ms/step - loss: 6.0904 - mae: 6.0904\n",
            "Epoch 61/100\n",
            "1/1 [==============================] - 0s 28ms/step - loss: 6.0566 - mae: 6.0566\n",
            "Epoch 62/100\n",
            "1/1 [==============================] - 0s 14ms/step - loss: 6.0266 - mae: 6.0266\n",
            "Epoch 63/100\n",
            "1/1 [==============================] - 0s 10ms/step - loss: 6.0229 - mae: 6.0229\n",
            "Epoch 64/100\n",
            "1/1 [==============================] - 0s 11ms/step - loss: 5.9891 - mae: 5.9891\n",
            "Epoch 65/100\n",
            "1/1 [==============================] - 0s 10ms/step - loss: 5.9554 - mae: 5.9554\n",
            "Epoch 66/100\n",
            "1/1 [==============================] - 0s 14ms/step - loss: 5.9216 - mae: 5.9216\n",
            "Epoch 67/100\n",
            "1/1 [==============================] - 0s 11ms/step - loss: 5.8879 - mae: 5.8879\n",
            "Epoch 68/100\n",
            "1/1 [==============================] - 0s 14ms/step - loss: 5.8616 - mae: 5.8616\n",
            "Epoch 69/100\n",
            "1/1 [==============================] - 0s 18ms/step - loss: 5.8541 - mae: 5.8541\n",
            "Epoch 70/100\n",
            "1/1 [==============================] - 0s 11ms/step - loss: 5.8204 - mae: 5.8204\n",
            "Epoch 71/100\n",
            "1/1 [==============================] - 0s 15ms/step - loss: 5.7866 - mae: 5.7866\n",
            "Epoch 72/100\n",
            "1/1 [==============================] - 0s 30ms/step - loss: 5.7529 - mae: 5.7529\n",
            "Epoch 73/100\n",
            "1/1 [==============================] - 0s 16ms/step - loss: 5.7191 - mae: 5.7191\n",
            "Epoch 74/100\n",
            "1/1 [==============================] - 0s 12ms/step - loss: 5.6966 - mae: 5.6966\n",
            "Epoch 75/100\n",
            "1/1 [==============================] - 0s 12ms/step - loss: 5.6854 - mae: 5.6854\n",
            "Epoch 76/100\n",
            "1/1 [==============================] - 0s 11ms/step - loss: 5.6516 - mae: 5.6516\n",
            "Epoch 77/100\n",
            "1/1 [==============================] - 0s 11ms/step - loss: 5.6179 - mae: 5.6179\n",
            "Epoch 78/100\n",
            "1/1 [==============================] - 0s 34ms/step - loss: 5.5841 - mae: 5.5841\n",
            "Epoch 79/100\n",
            "1/1 [==============================] - 0s 15ms/step - loss: 5.5504 - mae: 5.5504\n",
            "Epoch 80/100\n",
            "1/1 [==============================] - 0s 18ms/step - loss: 5.5316 - mae: 5.5316\n",
            "Epoch 81/100\n",
            "1/1 [==============================] - 0s 17ms/step - loss: 5.5166 - mae: 5.5166\n",
            "Epoch 82/100\n",
            "1/1 [==============================] - 0s 20ms/step - loss: 5.4829 - mae: 5.4829\n",
            "Epoch 83/100\n",
            "1/1 [==============================] - 0s 11ms/step - loss: 5.4491 - mae: 5.4491\n",
            "Epoch 84/100\n",
            "1/1 [==============================] - 0s 10ms/step - loss: 5.4154 - mae: 5.4154\n",
            "Epoch 85/100\n",
            "1/1 [==============================] - 0s 22ms/step - loss: 5.3816 - mae: 5.3816\n",
            "Epoch 86/100\n",
            "1/1 [==============================] - 0s 14ms/step - loss: 5.3666 - mae: 5.3666\n",
            "Epoch 87/100\n",
            "1/1 [==============================] - 0s 11ms/step - loss: 5.3479 - mae: 5.3479\n",
            "Epoch 88/100\n",
            "1/1 [==============================] - 0s 10ms/step - loss: 5.3141 - mae: 5.3141\n",
            "Epoch 89/100\n",
            "1/1 [==============================] - 0s 10ms/step - loss: 5.2804 - mae: 5.2804\n",
            "Epoch 90/100\n",
            "1/1 [==============================] - 0s 11ms/step - loss: 5.2466 - mae: 5.2466\n",
            "Epoch 91/100\n",
            "1/1 [==============================] - 0s 12ms/step - loss: 5.2129 - mae: 5.2129\n",
            "Epoch 92/100\n",
            "1/1 [==============================] - 0s 12ms/step - loss: 5.2016 - mae: 5.2016\n",
            "Epoch 93/100\n",
            "1/1 [==============================] - 0s 13ms/step - loss: 5.1791 - mae: 5.1791\n",
            "Epoch 94/100\n",
            "1/1 [==============================] - 0s 15ms/step - loss: 5.1454 - mae: 5.1454\n",
            "Epoch 95/100\n",
            "1/1 [==============================] - 0s 15ms/step - loss: 5.1116 - mae: 5.1116\n",
            "Epoch 96/100\n",
            "1/1 [==============================] - 0s 12ms/step - loss: 5.0779 - mae: 5.0779\n",
            "Epoch 97/100\n",
            "1/1 [==============================] - 0s 15ms/step - loss: 5.0441 - mae: 5.0441\n",
            "Epoch 98/100\n",
            "1/1 [==============================] - 0s 11ms/step - loss: 5.0366 - mae: 5.0366\n",
            "Epoch 99/100\n",
            "1/1 [==============================] - 0s 14ms/step - loss: 5.0104 - mae: 5.0104\n",
            "Epoch 100/100\n",
            "1/1 [==============================] - 0s 14ms/step - loss: 4.9766 - mae: 4.9766\n"
          ]
        },
        {
          "output_type": "execute_result",
          "data": {
            "text/plain": [
              "<keras.callbacks.History at 0x7f7f85915a10>"
            ]
          },
          "metadata": {},
          "execution_count": 21
        }
      ]
    },
    {
      "cell_type": "code",
      "source": [
        "#rebuilding model add extra hidden layer with 100 units and RELU activation on top of 100 epohs\n",
        "\n",
        "#1. create model\n",
        "model = tf.keras.Sequential([tf.keras.layers.Dense(50),\n",
        "                             tf.keras.layers.Dense(1)])\n",
        "\n",
        "#2. Compile Model\n",
        "model.compile(loss=tf.keras.losses.mae, optimizer = tf.keras.optimizers.Adam(lr=0.01), metrics = [\"mae\"])\n",
        "\n",
        "#3. Fit the model (with more number of epochs)\n",
        "model.fit(X,y, epochs = 100)"
      ],
      "metadata": {
        "colab": {
          "base_uri": "https://localhost:8080/"
        },
        "id": "QkIZMOpHZlDn",
        "outputId": "e3fcb901-1398-4fbe-9044-bfc34f9b3962"
      },
      "execution_count": null,
      "outputs": [
        {
          "output_type": "stream",
          "name": "stdout",
          "text": [
            "Epoch 1/100\n"
          ]
        },
        {
          "output_type": "stream",
          "name": "stderr",
          "text": [
            "/usr/local/lib/python3.7/dist-packages/keras/optimizer_v2/adam.py:105: UserWarning: The `lr` argument is deprecated, use `learning_rate` instead.\n",
            "  super(Adam, self).__init__(name, **kwargs)\n"
          ]
        },
        {
          "output_type": "stream",
          "name": "stdout",
          "text": [
            "1/1 [==============================] - 1s 778ms/step - loss: 16.5314 - mae: 16.5314\n",
            "Epoch 2/100\n",
            "1/1 [==============================] - 0s 13ms/step - loss: 15.3260 - mae: 15.3260\n",
            "Epoch 3/100\n",
            "1/1 [==============================] - 0s 12ms/step - loss: 14.2704 - mae: 14.2704\n",
            "Epoch 4/100\n",
            "1/1 [==============================] - 0s 11ms/step - loss: 13.2347 - mae: 13.2347\n",
            "Epoch 5/100\n",
            "1/1 [==============================] - 0s 21ms/step - loss: 12.2108 - mae: 12.2108\n",
            "Epoch 6/100\n",
            "1/1 [==============================] - 0s 11ms/step - loss: 11.1920 - mae: 11.1920\n",
            "Epoch 7/100\n",
            "1/1 [==============================] - 0s 13ms/step - loss: 10.1721 - mae: 10.1721\n",
            "Epoch 8/100\n",
            "1/1 [==============================] - 0s 12ms/step - loss: 9.1453 - mae: 9.1453\n",
            "Epoch 9/100\n",
            "1/1 [==============================] - 0s 18ms/step - loss: 8.1055 - mae: 8.1055\n",
            "Epoch 10/100\n",
            "1/1 [==============================] - 0s 20ms/step - loss: 7.0465 - mae: 7.0465\n",
            "Epoch 11/100\n",
            "1/1 [==============================] - 0s 24ms/step - loss: 6.6720 - mae: 6.6720\n",
            "Epoch 12/100\n",
            "1/1 [==============================] - 0s 14ms/step - loss: 7.1812 - mae: 7.1812\n",
            "Epoch 13/100\n",
            "1/1 [==============================] - 0s 16ms/step - loss: 7.7377 - mae: 7.7377\n",
            "Epoch 14/100\n",
            "1/1 [==============================] - 0s 21ms/step - loss: 7.9917 - mae: 7.9917\n",
            "Epoch 15/100\n",
            "1/1 [==============================] - 0s 17ms/step - loss: 7.9687 - mae: 7.9687\n",
            "Epoch 16/100\n",
            "1/1 [==============================] - 0s 19ms/step - loss: 7.7342 - mae: 7.7342\n",
            "Epoch 17/100\n",
            "1/1 [==============================] - 0s 28ms/step - loss: 7.3360 - mae: 7.3360\n",
            "Epoch 18/100\n",
            "1/1 [==============================] - 0s 18ms/step - loss: 6.8105 - mae: 6.8105\n",
            "Epoch 19/100\n",
            "1/1 [==============================] - 0s 15ms/step - loss: 6.1859 - mae: 6.1859\n",
            "Epoch 20/100\n",
            "1/1 [==============================] - 0s 17ms/step - loss: 5.6112 - mae: 5.6112\n",
            "Epoch 21/100\n",
            "1/1 [==============================] - 0s 13ms/step - loss: 5.2784 - mae: 5.2784\n",
            "Epoch 22/100\n",
            "1/1 [==============================] - 0s 14ms/step - loss: 5.2012 - mae: 5.2012\n",
            "Epoch 23/100\n",
            "1/1 [==============================] - 0s 13ms/step - loss: 5.2522 - mae: 5.2522\n",
            "Epoch 24/100\n",
            "1/1 [==============================] - 0s 17ms/step - loss: 5.3272 - mae: 5.3272\n",
            "Epoch 25/100\n",
            "1/1 [==============================] - 0s 13ms/step - loss: 5.2605 - mae: 5.2605\n",
            "Epoch 26/100\n",
            "1/1 [==============================] - 0s 12ms/step - loss: 5.0680 - mae: 5.0680\n",
            "Epoch 27/100\n",
            "1/1 [==============================] - 0s 26ms/step - loss: 4.7615 - mae: 4.7615\n",
            "Epoch 28/100\n",
            "1/1 [==============================] - 0s 14ms/step - loss: 4.3498 - mae: 4.3498\n",
            "Epoch 29/100\n",
            "1/1 [==============================] - 0s 24ms/step - loss: 3.9850 - mae: 3.9850\n",
            "Epoch 30/100\n",
            "1/1 [==============================] - 0s 19ms/step - loss: 3.7335 - mae: 3.7335\n",
            "Epoch 31/100\n",
            "1/1 [==============================] - 0s 8ms/step - loss: 3.4800 - mae: 3.4800\n",
            "Epoch 32/100\n",
            "1/1 [==============================] - 0s 9ms/step - loss: 3.5091 - mae: 3.5091\n",
            "Epoch 33/100\n",
            "1/1 [==============================] - 0s 13ms/step - loss: 3.4220 - mae: 3.4220\n",
            "Epoch 34/100\n",
            "1/1 [==============================] - 0s 10ms/step - loss: 3.1619 - mae: 3.1619\n",
            "Epoch 35/100\n",
            "1/1 [==============================] - 0s 12ms/step - loss: 2.7578 - mae: 2.7578\n",
            "Epoch 36/100\n",
            "1/1 [==============================] - 0s 29ms/step - loss: 2.4991 - mae: 2.4991\n",
            "Epoch 37/100\n",
            "1/1 [==============================] - 0s 37ms/step - loss: 2.2272 - mae: 2.2272\n",
            "Epoch 38/100\n",
            "1/1 [==============================] - 0s 15ms/step - loss: 1.9585 - mae: 1.9585\n",
            "Epoch 39/100\n",
            "1/1 [==============================] - 0s 21ms/step - loss: 1.7969 - mae: 1.7969\n",
            "Epoch 40/100\n",
            "1/1 [==============================] - 0s 10ms/step - loss: 1.6680 - mae: 1.6680\n",
            "Epoch 41/100\n",
            "1/1 [==============================] - 0s 23ms/step - loss: 1.5000 - mae: 1.5000\n",
            "Epoch 42/100\n",
            "1/1 [==============================] - 0s 12ms/step - loss: 1.5000 - mae: 1.5000\n",
            "Epoch 43/100\n",
            "1/1 [==============================] - 0s 22ms/step - loss: 1.5000 - mae: 1.5000\n",
            "Epoch 44/100\n",
            "1/1 [==============================] - 0s 17ms/step - loss: 1.5000 - mae: 1.5000\n",
            "Epoch 45/100\n",
            "1/1 [==============================] - 0s 22ms/step - loss: 1.5000 - mae: 1.5000\n",
            "Epoch 46/100\n",
            "1/1 [==============================] - 0s 12ms/step - loss: 1.5000 - mae: 1.5000\n",
            "Epoch 47/100\n",
            "1/1 [==============================] - 0s 39ms/step - loss: 1.5000 - mae: 1.5000\n",
            "Epoch 48/100\n",
            "1/1 [==============================] - 0s 15ms/step - loss: 1.5000 - mae: 1.5000\n",
            "Epoch 49/100\n",
            "1/1 [==============================] - 0s 23ms/step - loss: 1.5000 - mae: 1.5000\n",
            "Epoch 50/100\n",
            "1/1 [==============================] - 0s 12ms/step - loss: 1.5357 - mae: 1.5357\n",
            "Epoch 51/100\n",
            "1/1 [==============================] - 0s 28ms/step - loss: 1.5010 - mae: 1.5010\n",
            "Epoch 52/100\n",
            "1/1 [==============================] - 0s 15ms/step - loss: 1.5521 - mae: 1.5521\n",
            "Epoch 53/100\n",
            "1/1 [==============================] - 0s 12ms/step - loss: 1.5575 - mae: 1.5575\n",
            "Epoch 54/100\n",
            "1/1 [==============================] - 0s 11ms/step - loss: 1.5403 - mae: 1.5403\n",
            "Epoch 55/100\n",
            "1/1 [==============================] - 0s 12ms/step - loss: 1.5013 - mae: 1.5013\n",
            "Epoch 56/100\n",
            "1/1 [==============================] - 0s 15ms/step - loss: 1.5000 - mae: 1.5000\n",
            "Epoch 57/100\n",
            "1/1 [==============================] - 0s 27ms/step - loss: 1.5000 - mae: 1.5000\n",
            "Epoch 58/100\n",
            "1/1 [==============================] - 0s 21ms/step - loss: 1.5000 - mae: 1.5000\n",
            "Epoch 59/100\n",
            "1/1 [==============================] - 0s 14ms/step - loss: 1.5000 - mae: 1.5000\n",
            "Epoch 60/100\n",
            "1/1 [==============================] - 0s 15ms/step - loss: 1.5000 - mae: 1.5000\n",
            "Epoch 61/100\n",
            "1/1 [==============================] - 0s 10ms/step - loss: 1.5000 - mae: 1.5000\n",
            "Epoch 62/100\n",
            "1/1 [==============================] - 0s 13ms/step - loss: 1.5000 - mae: 1.5000\n",
            "Epoch 63/100\n",
            "1/1 [==============================] - 0s 13ms/step - loss: 1.5000 - mae: 1.5000\n",
            "Epoch 64/100\n",
            "1/1 [==============================] - 0s 25ms/step - loss: 1.5000 - mae: 1.5000\n",
            "Epoch 65/100\n",
            "1/1 [==============================] - 0s 18ms/step - loss: 1.5000 - mae: 1.5000\n",
            "Epoch 66/100\n",
            "1/1 [==============================] - 0s 19ms/step - loss: 1.5000 - mae: 1.5000\n",
            "Epoch 67/100\n",
            "1/1 [==============================] - 0s 22ms/step - loss: 1.5000 - mae: 1.5000\n",
            "Epoch 68/100\n",
            "1/1 [==============================] - 0s 15ms/step - loss: 1.5000 - mae: 1.5000\n",
            "Epoch 69/100\n",
            "1/1 [==============================] - 0s 14ms/step - loss: 1.5000 - mae: 1.5000\n",
            "Epoch 70/100\n",
            "1/1 [==============================] - 0s 21ms/step - loss: 1.5000 - mae: 1.5000\n",
            "Epoch 71/100\n",
            "1/1 [==============================] - 0s 24ms/step - loss: 1.5000 - mae: 1.5000\n",
            "Epoch 72/100\n",
            "1/1 [==============================] - 0s 29ms/step - loss: 1.5000 - mae: 1.5000\n",
            "Epoch 73/100\n",
            "1/1 [==============================] - 0s 10ms/step - loss: 1.5000 - mae: 1.5000\n",
            "Epoch 74/100\n",
            "1/1 [==============================] - 0s 24ms/step - loss: 1.5000 - mae: 1.5000\n",
            "Epoch 75/100\n",
            "1/1 [==============================] - 0s 19ms/step - loss: 1.5000 - mae: 1.5000\n",
            "Epoch 76/100\n",
            "1/1 [==============================] - 0s 17ms/step - loss: 1.5000 - mae: 1.5000\n",
            "Epoch 77/100\n",
            "1/1 [==============================] - 0s 52ms/step - loss: 1.5000 - mae: 1.5000\n",
            "Epoch 78/100\n",
            "1/1 [==============================] - 0s 28ms/step - loss: 1.5000 - mae: 1.5000\n",
            "Epoch 79/100\n",
            "1/1 [==============================] - 0s 16ms/step - loss: 1.5000 - mae: 1.5000\n",
            "Epoch 80/100\n",
            "1/1 [==============================] - 0s 36ms/step - loss: 1.5000 - mae: 1.5000\n",
            "Epoch 81/100\n",
            "1/1 [==============================] - 0s 29ms/step - loss: 1.5000 - mae: 1.5000\n",
            "Epoch 82/100\n",
            "1/1 [==============================] - 0s 13ms/step - loss: 1.5000 - mae: 1.5000\n",
            "Epoch 83/100\n",
            "1/1 [==============================] - 0s 23ms/step - loss: 1.5000 - mae: 1.5000\n",
            "Epoch 84/100\n",
            "1/1 [==============================] - 0s 30ms/step - loss: 1.5000 - mae: 1.5000\n",
            "Epoch 85/100\n",
            "1/1 [==============================] - 0s 26ms/step - loss: 1.5000 - mae: 1.5000\n",
            "Epoch 86/100\n",
            "1/1 [==============================] - 0s 15ms/step - loss: 1.5000 - mae: 1.5000\n",
            "Epoch 87/100\n",
            "1/1 [==============================] - 0s 23ms/step - loss: 1.5000 - mae: 1.5000\n",
            "Epoch 88/100\n",
            "1/1 [==============================] - 0s 26ms/step - loss: 1.5000 - mae: 1.5000\n",
            "Epoch 89/100\n",
            "1/1 [==============================] - 0s 18ms/step - loss: 1.5000 - mae: 1.5000\n",
            "Epoch 90/100\n",
            "1/1 [==============================] - 0s 23ms/step - loss: 1.5000 - mae: 1.5000\n",
            "Epoch 91/100\n",
            "1/1 [==============================] - 0s 8ms/step - loss: 1.5000 - mae: 1.5000\n",
            "Epoch 92/100\n",
            "1/1 [==============================] - 0s 17ms/step - loss: 1.5000 - mae: 1.5000\n",
            "Epoch 93/100\n",
            "1/1 [==============================] - 0s 12ms/step - loss: 1.5000 - mae: 1.5000\n",
            "Epoch 94/100\n",
            "1/1 [==============================] - 0s 11ms/step - loss: 1.5000 - mae: 1.5000\n",
            "Epoch 95/100\n",
            "1/1 [==============================] - 0s 8ms/step - loss: 1.5000 - mae: 1.5000\n",
            "Epoch 96/100\n",
            "1/1 [==============================] - 0s 17ms/step - loss: 1.5000 - mae: 1.5000\n",
            "Epoch 97/100\n",
            "1/1 [==============================] - 0s 22ms/step - loss: 1.5000 - mae: 1.5000\n",
            "Epoch 98/100\n",
            "1/1 [==============================] - 0s 13ms/step - loss: 1.5000 - mae: 1.5000\n",
            "Epoch 99/100\n",
            "1/1 [==============================] - 0s 17ms/step - loss: 1.5000 - mae: 1.5000\n",
            "Epoch 100/100\n",
            "1/1 [==============================] - 0s 21ms/step - loss: 1.5000 - mae: 1.5000\n"
          ]
        },
        {
          "output_type": "execute_result",
          "data": {
            "text/plain": [
              "<keras.callbacks.History at 0x7f7f8585c150>"
            ]
          },
          "metadata": {},
          "execution_count": 22
        }
      ]
    },
    {
      "cell_type": "code",
      "source": [
        "X,y\n"
      ],
      "metadata": {
        "colab": {
          "base_uri": "https://localhost:8080/"
        },
        "id": "NqLY2HeHZlF_",
        "outputId": "ea2fb931-33d2-4c5c-8c5f-88505f05132f"
      },
      "execution_count": null,
      "outputs": [
        {
          "output_type": "execute_result",
          "data": {
            "text/plain": [
              "(<tf.Tensor: shape=(4, 2), dtype=float32, numpy=\n",
              " array([[-7., -4.],\n",
              "        [-1.,  2.],\n",
              "        [ 5.,  8.],\n",
              "        [11., 14.]], dtype=float32)>,\n",
              " <tf.Tensor: shape=(4, 2), dtype=float32, numpy=\n",
              " array([[ 3.,  6.],\n",
              "        [ 9., 12.],\n",
              "        [15., 18.],\n",
              "        [21., 24.]], dtype=float32)>)"
            ]
          },
          "metadata": {},
          "execution_count": 23
        }
      ]
    },
    {
      "cell_type": "code",
      "source": [
        "model.predict([[17.0,20.0]])"
      ],
      "metadata": {
        "colab": {
          "base_uri": "https://localhost:8080/"
        },
        "id": "yD1wtL-NZlIw",
        "outputId": "839e1485-d5b9-49c4-9d09-8fbaeac93761"
      },
      "execution_count": null,
      "outputs": [
        {
          "output_type": "execute_result",
          "data": {
            "text/plain": [
              "array([[27.531553]], dtype=float32)"
            ]
          },
          "metadata": {},
          "execution_count": 24
        }
      ]
    },
    {
      "cell_type": "code",
      "source": [
        "#model started to overfit\n",
        "#Steps of evaluating model\n",
        "#visualize data, visualize model, visualize trianing of model,visualize predictions against ground truth"
      ],
      "metadata": {
        "id": "A2Xut58gZlLn"
      },
      "execution_count": null,
      "outputs": []
    },
    {
      "cell_type": "code",
      "source": [
        "X = tf.range(-100, 100, 4)\n",
        "X"
      ],
      "metadata": {
        "colab": {
          "base_uri": "https://localhost:8080/"
        },
        "id": "CGvJfxs6Tmn2",
        "outputId": "da60d5f2-e438-42b4-9969-d0d8b0cefed3"
      },
      "execution_count": null,
      "outputs": [
        {
          "output_type": "execute_result",
          "data": {
            "text/plain": [
              "<tf.Tensor: shape=(50,), dtype=int32, numpy=\n",
              "array([-100,  -96,  -92,  -88,  -84,  -80,  -76,  -72,  -68,  -64,  -60,\n",
              "        -56,  -52,  -48,  -44,  -40,  -36,  -32,  -28,  -24,  -20,  -16,\n",
              "        -12,   -8,   -4,    0,    4,    8,   12,   16,   20,   24,   28,\n",
              "         32,   36,   40,   44,   48,   52,   56,   60,   64,   68,   72,\n",
              "         76,   80,   84,   88,   92,   96], dtype=int32)>"
            ]
          },
          "metadata": {},
          "execution_count": 26
        }
      ]
    },
    {
      "cell_type": "code",
      "source": [
        "y =  X + 10\n",
        "y"
      ],
      "metadata": {
        "colab": {
          "base_uri": "https://localhost:8080/"
        },
        "id": "ugmbZ3dXfY8r",
        "outputId": "0eca14d1-bf5f-4c3a-807a-b4d3b7c9367c"
      },
      "execution_count": null,
      "outputs": [
        {
          "output_type": "execute_result",
          "data": {
            "text/plain": [
              "<tf.Tensor: shape=(50,), dtype=int32, numpy=\n",
              "array([-90, -86, -82, -78, -74, -70, -66, -62, -58, -54, -50, -46, -42,\n",
              "       -38, -34, -30, -26, -22, -18, -14, -10,  -6,  -2,   2,   6,  10,\n",
              "        14,  18,  22,  26,  30,  34,  38,  42,  46,  50,  54,  58,  62,\n",
              "        66,  70,  74,  78,  82,  86,  90,  94,  98, 102, 106], dtype=int32)>"
            ]
          },
          "metadata": {},
          "execution_count": 27
        }
      ]
    },
    {
      "cell_type": "code",
      "source": [
        "#visualize data\n",
        "import matplotlib.pyplot as plt\n",
        "plt.scatter(X,y)"
      ],
      "metadata": {
        "colab": {
          "base_uri": "https://localhost:8080/",
          "height": 282
        },
        "id": "SPHUaPvHfY_a",
        "outputId": "e9f7dfc0-59ee-4eef-9e96-ecdaa028f978"
      },
      "execution_count": null,
      "outputs": [
        {
          "output_type": "execute_result",
          "data": {
            "text/plain": [
              "<matplotlib.collections.PathCollection at 0x7f7f86260390>"
            ]
          },
          "metadata": {},
          "execution_count": 28
        },
        {
          "output_type": "display_data",
          "data": {
            "image/png": "[encoded data removed]",
            "text/plain": [
              "<Figure size 432x288 with 1 Axes>"
            ]
          },
          "metadata": {
            "needs_background": "light"
          }
        }
      ]
    },
    {
      "cell_type": "code",
      "source": [
        "###three sets train, validate, test\n",
        "#check length of how many samples we have\n",
        "len(X)"
      ],
      "metadata": {
        "colab": {
          "base_uri": "https://localhost:8080/"
        },
        "id": "EsylU7i-fZCL",
        "outputId": "5a02986c-9d10-413e-b718-3ebf059e0ece"
      },
      "execution_count": null,
      "outputs": [
        {
          "output_type": "execute_result",
          "data": {
            "text/plain": [
              "50"
            ]
          },
          "metadata": {},
          "execution_count": 29
        }
      ]
    },
    {
      "cell_type": "code",
      "source": [
        "#split the data to train test\n",
        "X_train = X[:40] #first 40 are training samples (80% of the data)\n",
        "y_train = y[:40]\n",
        "\n",
        "X_test = X[40:] #last 10\n",
        "y_test = y[40:]\n",
        "\n",
        "len(X_train), len(X_test), len(y_train), len(y_test)"
      ],
      "metadata": {
        "colab": {
          "base_uri": "https://localhost:8080/"
        },
        "id": "ZbeXqUbOfZEj",
        "outputId": "d4254fd4-e786-49df-9dd5-5be1c4c30a6f"
      },
      "execution_count": null,
      "outputs": [
        {
          "output_type": "execute_result",
          "data": {
            "text/plain": [
              "(40, 10, 40, 10)"
            ]
          },
          "metadata": {},
          "execution_count": 30
        }
      ]
    },
    {
      "cell_type": "code",
      "source": [
        "#visualize data\n",
        "plt.figure(figsize=(10,7))\n",
        "\n",
        "#plot train data in blue\n",
        "plt.scatter(X_train,y_train,c=\"b\",label =\"Training data\")\n",
        "\n",
        "#plot test data in green\n",
        "plt.scatter(X_test,y_test,c=\"g\",label =\"Testing data\")\n",
        "\n",
        "#show legend\n",
        "plt.legend();"
      ],
      "metadata": {
        "colab": {
          "base_uri": "https://localhost:8080/",
          "height": 427
        },
        "id": "faXRP0Q4fZHR",
        "outputId": "29f635f1-439b-40fb-9e22-ad46bb59c863"
      },
      "execution_count": null,
      "outputs": [
        {
          "output_type": "display_data",
          "data": {
            "image/png": "[encoded data removed]",
            "text/plain": [
              "<Figure size 720x504 with 1 Axes>"
            ]
          },
          "metadata": {
            "needs_background": "light"
          }
        }
      ]
    },
    {
      "cell_type": "code",
      "source": [
        "#how to make a NN for our data\n",
        "#tf.keras.layers.Dense(3, input_shape =[1] , here 3 is the number of units"
      ],
      "metadata": {
        "id": "3wNBGiXyfZJs"
      },
      "execution_count": null,
      "outputs": []
    },
    {
      "cell_type": "code",
      "source": [
        "# 1. Create Model\n",
        "model = tf.keras.Sequential([ tf.keras.layers.Dense(10, input_shape =[1], name = \"input_layer\"),\n",
        "                             tf.keras.layers.Dense(1,name=\"output_layers\")\n",
        "])\n",
        "\n",
        "# 2. Compile\n",
        "model.compile(loss = tf.keras.losses.mae,\n",
        "              optimizer = tf.keras.optimizers.SGD(),\n",
        "              metrics =[\"mae\"])\n",
        "\n",
        "# # 3. Fit the model\n",
        "# model.fit (X_train, y_train, epochs = 100)"
      ],
      "metadata": {
        "id": "NfEsJQs1jYId"
      },
      "execution_count": null,
      "outputs": []
    },
    {
      "cell_type": "code",
      "source": [
        "#visualizing model\n",
        "model.summary()"
      ],
      "metadata": {
        "colab": {
          "base_uri": "https://localhost:8080/"
        },
        "id": "DoQ2ypdijYLE",
        "outputId": "8f82a8de-4495-44f8-ce7b-bc5a549ad4c2"
      },
      "execution_count": null,
      "outputs": [
        {
          "output_type": "stream",
          "name": "stdout",
          "text": [
            "Model: \"sequential_4\"\n",
            "_________________________________________________________________\n",
            " Layer (type)                Output Shape              Param #   \n",
            "=================================================================\n",
            " input_layer (Dense)         (None, 10)                20        \n",
            "                                                                 \n",
            " output_layers (Dense)       (None, 1)                 11        \n",
            "                                                                 \n",
            "=================================================================\n",
            "Total params: 31\n",
            "Trainable params: 31\n",
            "Non-trainable params: 0\n",
            "_________________________________________________________________\n"
          ]
        }
      ]
    },
    {
      "cell_type": "code",
      "source": [
        "model.build()"
      ],
      "metadata": {
        "id": "3YZVP6u2jYNs"
      },
      "execution_count": null,
      "outputs": []
    },
    {
      "cell_type": "code",
      "source": [
        "X[0], y[0]"
      ],
      "metadata": {
        "colab": {
          "base_uri": "https://localhost:8080/"
        },
        "id": "lTUYa7FBm17j",
        "outputId": "a89b34b1-2528-46ca-f622-ef656c0528a4"
      },
      "execution_count": null,
      "outputs": [
        {
          "output_type": "execute_result",
          "data": {
            "text/plain": [
              "(<tf.Tensor: shape=(), dtype=int32, numpy=-100>,\n",
              " <tf.Tensor: shape=(), dtype=int32, numpy=-90>)"
            ]
          },
          "metadata": {},
          "execution_count": 36
        }
      ]
    },
    {
      "cell_type": "code",
      "source": [
        "#lets create a model that builds automatically by defining the input shape in the 1st layer\n",
        "\n",
        "tf.random.set_seed(42)\n",
        "#input shape is 1 since we are passing 1 number to predict one number\n",
        "#create model\n",
        "model = tf.keras.Sequential([ tf.keras.layers.Dense(1, input_shape =[1] )\n",
        "                             \n",
        "])\n",
        "#compile the model (same as above)\n",
        "model.compile(loss= tf.keras.losses.mae,\n",
        "              optimizer = tf.keras.optimizers.SGD(),\n",
        "              metrics =[\"mae\"])\n",
        "\n",
        "model.summary()\n",
        "#layer status dense means fully connedted\n",
        "#total params are the total number of parametes the model is going to learn\n",
        "#trainable paramateres are the paramters the model can update as it trains\n",
        "#2 for 2 means that all the parameters are learnable\n",
        "#when are total and trainable paramters not same? it is when we use a model build by others that has a lot of parameters that are not trainable so we freeze those\n",
        "#non-trainable params - they are not updated during training(it happens when we bring in already learned patterns/parameters from other models during transfer learning)\n",
        "#for indepth overview of what these paramters are: watch MIT introduction to dep learning vido"
      ],
      "metadata": {
        "colab": {
          "base_uri": "https://localhost:8080/"
        },
        "id": "iYvd7dBzjYP8",
        "outputId": "f18a9306-4ca8-445e-881d-765ca57da064"
      },
      "execution_count": null,
      "outputs": [
        {
          "output_type": "stream",
          "name": "stdout",
          "text": [
            "Model: \"sequential_5\"\n",
            "_________________________________________________________________\n",
            " Layer (type)                Output Shape              Param #   \n",
            "=================================================================\n",
            " dense_5 (Dense)             (None, 1)                 2         \n",
            "                                                                 \n",
            "=================================================================\n",
            "Total params: 2\n",
            "Trainable params: 2\n",
            "Non-trainable params: 0\n",
            "_________________________________________________________________\n"
          ]
        }
      ]
    },
    {
      "cell_type": "code",
      "source": [
        "#verbose = 0 ensures we dont get nay output\n",
        "model.fit(X_train, y_train, epochs = 100, verbose = 0)"
      ],
      "metadata": {
        "colab": {
          "base_uri": "https://localhost:8080/"
        },
        "id": "X_LJM8zbjYSd",
        "outputId": "fc5c2df6-0d04-4c4f-99c0-f309d1696424"
      },
      "execution_count": null,
      "outputs": [
        {
          "output_type": "execute_result",
          "data": {
            "text/plain": [
              "<keras.callbacks.History at 0x7f7f82f90f90>"
            ]
          },
          "metadata": {},
          "execution_count": 38
        }
      ]
    },
    {
      "cell_type": "code",
      "source": [
        "model.summary()"
      ],
      "metadata": {
        "colab": {
          "base_uri": "https://localhost:8080/"
        },
        "id": "o_HjLjXRjYUk",
        "outputId": "a0622086-a033-42e9-b718-69319349667d"
      },
      "execution_count": null,
      "outputs": [
        {
          "output_type": "stream",
          "name": "stdout",
          "text": [
            "Model: \"sequential_5\"\n",
            "_________________________________________________________________\n",
            " Layer (type)                Output Shape              Param #   \n",
            "=================================================================\n",
            " dense_5 (Dense)             (None, 1)                 2         \n",
            "                                                                 \n",
            "=================================================================\n",
            "Total params: 2\n",
            "Trainable params: 2\n",
            "Non-trainable params: 0\n",
            "_________________________________________________________________\n"
          ]
        }
      ]
    },
    {
      "cell_type": "code",
      "source": [
        "from tensorflow.keras.utils import plot_model\n",
        "plot_model(model=model, show_shapes = True)"
      ],
      "metadata": {
        "colab": {
          "base_uri": "https://localhost:8080/",
          "height": 201
        },
        "id": "HleTjPALfZMb",
        "outputId": "54b48a9c-e9dd-429f-ca46-5257286d7f58"
      },
      "execution_count": null,
      "outputs": [
        {
          "output_type": "execute_result",
          "data": {
            "image/png": "[encoded data removed]",
            "text/plain": [
              "<IPython.core.display.Image object>"
            ]
          },
          "metadata": {},
          "execution_count": 40
        }
      ]
    },
    {
      "cell_type": "code",
      "source": [
        "#visualize our models predictions\n",
        "#to visualize predictions it is a good idea to plot them against ground truth.i.e.y_test Vs y_pred\n",
        "#make some predictions\n",
        "y_pred = model.predict(X_test)\n",
        "y_pred"
      ],
      "metadata": {
        "colab": {
          "base_uri": "https://localhost:8080/"
        },
        "id": "EItkh5z1Tmql",
        "outputId": "ed210a95-a17c-457e-956b-70b940ecf3aa"
      },
      "execution_count": null,
      "outputs": [
        {
          "output_type": "execute_result",
          "data": {
            "text/plain": [
              "array([[53.57109 ],\n",
              "       [57.05633 ],\n",
              "       [60.541573],\n",
              "       [64.02681 ],\n",
              "       [67.512054],\n",
              "       [70.99729 ],\n",
              "       [74.48254 ],\n",
              "       [77.96777 ],\n",
              "       [81.45301 ],\n",
              "       [84.938255]], dtype=float32)"
            ]
          },
          "metadata": {},
          "execution_count": 41
        }
      ]
    },
    {
      "cell_type": "code",
      "source": [
        "y_test"
      ],
      "metadata": {
        "colab": {
          "base_uri": "https://localhost:8080/"
        },
        "id": "1NlT4NUUwy7r",
        "outputId": "3f155e55-5ad5-49a1-a6a9-61f790a3fa9a"
      },
      "execution_count": null,
      "outputs": [
        {
          "output_type": "execute_result",
          "data": {
            "text/plain": [
              "<tf.Tensor: shape=(10,), dtype=int32, numpy=array([ 70,  74,  78,  82,  86,  90,  94,  98, 102, 106], dtype=int32)>"
            ]
          },
          "metadata": {},
          "execution_count": 42
        }
      ]
    },
    {
      "cell_type": "code",
      "source": [
        "#creating plotting function\n",
        "def plot_predictions(train_data = X_train,train_labels= y_train, test_data= X_test,test_labels=y_test,predictions=y_pred):\n",
        "  \"\"\"\n",
        "   plots traing and test data, compares predictions to ground truth\n",
        "   \"\"\"\n",
        "  plt.figure(figsize=(10,7))\n",
        "  #plot training data in blue\n",
        "  plt.scatter(train_data, train_labels,c=\"b\",label=\"Training data\")\n",
        "\n",
        "  #plot testing data in green\n",
        "  plt.scatter(test_data, test_labels,c=\"g\",label=\"Testing data\")\n",
        "\n",
        " #plot model's prediction in red\n",
        "  plt.scatter(test_data, predictions,c=\"r\",label=\"Predictions\")\n",
        "\n",
        "  #show legend\n",
        "  plt.legend();\n",
        "\n"
      ],
      "metadata": {
        "id": "KvfgnPfbwy-C"
      },
      "execution_count": null,
      "outputs": []
    },
    {
      "cell_type": "code",
      "source": [
        "plot_predictions(train_data = X_train,\n",
        "                 train_labels=y_train,\n",
        "                 test_data=X_test,\n",
        "                 test_labels=y_test,\n",
        "                 predictions=y_pred)"
      ],
      "metadata": {
        "colab": {
          "base_uri": "https://localhost:8080/",
          "height": 427
        },
        "id": "jkHYPIfgwzAa",
        "outputId": "483aa28c-a0af-4cdb-923e-38e76f6ef2fc"
      },
      "execution_count": null,
      "outputs": [
        {
          "output_type": "display_data",
          "data": {
            "image/png": "[encoded data removed]",
            "text/plain": [
              "<Figure size 720x504 with 1 Axes>"
            ]
          },
          "metadata": {
            "needs_background": "light"
          }
        }
      ]
    },
    {
      "cell_type": "code",
      "source": [
        "#evaluating our model prediction with regression evaluation metrics\n",
        "model.evaluate(X_test, y_test)\n"
      ],
      "metadata": {
        "colab": {
          "base_uri": "https://localhost:8080/"
        },
        "id": "h3-aHrIewzDC",
        "outputId": "b1c66a09-1dd8-462a-f180-43b0324fe968"
      },
      "execution_count": null,
      "outputs": [
        {
          "output_type": "stream",
          "name": "stdout",
          "text": [
            "1/1 [==============================] - 0s 329ms/step - loss: 18.7453 - mae: 18.7453\n"
          ]
        },
        {
          "output_type": "execute_result",
          "data": {
            "text/plain": [
              "[18.74532699584961, 18.74532699584961]"
            ]
          },
          "metadata": {},
          "execution_count": 45
        }
      ]
    },
    {
      "cell_type": "code",
      "source": [
        "y_pred"
      ],
      "metadata": {
        "colab": {
          "base_uri": "https://localhost:8080/"
        },
        "id": "jjT1PRYUwzFh",
        "outputId": "e3f01a9f-bfea-4fe1-afb6-a17e7a76e380"
      },
      "execution_count": null,
      "outputs": [
        {
          "output_type": "execute_result",
          "data": {
            "text/plain": [
              "array([[53.57109 ],\n",
              "       [57.05633 ],\n",
              "       [60.541573],\n",
              "       [64.02681 ],\n",
              "       [67.512054],\n",
              "       [70.99729 ],\n",
              "       [74.48254 ],\n",
              "       [77.96777 ],\n",
              "       [81.45301 ],\n",
              "       [84.938255]], dtype=float32)"
            ]
          },
          "metadata": {},
          "execution_count": 46
        }
      ]
    },
    {
      "cell_type": "code",
      "source": [
        "y_test"
      ],
      "metadata": {
        "colab": {
          "base_uri": "https://localhost:8080/"
        },
        "id": "zgNPPQ8mwzH6",
        "outputId": "425772d7-bc90-4dc7-f076-c4e38641439e"
      },
      "execution_count": null,
      "outputs": [
        {
          "output_type": "execute_result",
          "data": {
            "text/plain": [
              "<tf.Tensor: shape=(10,), dtype=int32, numpy=array([ 70,  74,  78,  82,  86,  90,  94,  98, 102, 106], dtype=int32)>"
            ]
          },
          "metadata": {},
          "execution_count": 47
        }
      ]
    },
    {
      "cell_type": "code",
      "source": [
        "mae = tf.metrics.mean_absolute_error(y_true = y_test,y_pred= tf.constant(y_pred))\n",
        "mae"
      ],
      "metadata": {
        "colab": {
          "base_uri": "https://localhost:8080/"
        },
        "id": "H-Udfog6wzKi",
        "outputId": "e3315ab7-5d01-42f4-c406-3e422a221576"
      },
      "execution_count": null,
      "outputs": [
        {
          "output_type": "execute_result",
          "data": {
            "text/plain": [
              "<tf.Tensor: shape=(10,), dtype=float32, numpy=\n",
              "array([34.42891 , 30.943668, 27.45843 , 23.97319 , 20.487946, 17.202168,\n",
              "       14.510478, 12.419336, 11.018796, 10.212349], dtype=float32)>"
            ]
          },
          "metadata": {},
          "execution_count": 48
        }
      ]
    },
    {
      "cell_type": "code",
      "source": [
        "tf.constant(y_pred)"
      ],
      "metadata": {
        "colab": {
          "base_uri": "https://localhost:8080/"
        },
        "id": "B1xCbbWcwzNF",
        "outputId": "e8cbe7be-bd8b-4640-faaa-cbc8ac39a43f"
      },
      "execution_count": null,
      "outputs": [
        {
          "output_type": "execute_result",
          "data": {
            "text/plain": [
              "<tf.Tensor: shape=(10, 1), dtype=float32, numpy=\n",
              "array([[53.57109 ],\n",
              "       [57.05633 ],\n",
              "       [60.541573],\n",
              "       [64.02681 ],\n",
              "       [67.512054],\n",
              "       [70.99729 ],\n",
              "       [74.48254 ],\n",
              "       [77.96777 ],\n",
              "       [81.45301 ],\n",
              "       [84.938255]], dtype=float32)>"
            ]
          },
          "metadata": {},
          "execution_count": 49
        }
      ]
    },
    {
      "cell_type": "code",
      "source": [
        "# shape mismatch , prediction shape (10,1) , mae shape (10, ?)\n",
        "#lets turn y_pred shape from (10,1) to (10,?) only using squeeze\n",
        "# Given a tensor input, this operation returns a tensor of the same type with all dimensions of size 1 removed. \n",
        "# If you don't want to remove all size 1 dimensions, you can remove specific size 1 dimensions by specifying axis"
      ],
      "metadata": {
        "id": "gj8CaaYv5uHD"
      },
      "execution_count": null,
      "outputs": []
    },
    {
      "cell_type": "code",
      "source": [
        "tf.squeeze(y_pred)"
      ],
      "metadata": {
        "colab": {
          "base_uri": "https://localhost:8080/"
        },
        "id": "m-KBvnu55uJ6",
        "outputId": "c5d34f5e-3ecf-4449-8333-f016152f83db"
      },
      "execution_count": null,
      "outputs": [
        {
          "output_type": "execute_result",
          "data": {
            "text/plain": [
              "<tf.Tensor: shape=(10,), dtype=float32, numpy=\n",
              "array([53.57109 , 57.05633 , 60.541573, 64.02681 , 67.512054, 70.99729 ,\n",
              "       74.48254 , 77.96777 , 81.45301 , 84.938255], dtype=float32)>"
            ]
          },
          "metadata": {},
          "execution_count": 51
        }
      ]
    },
    {
      "cell_type": "code",
      "source": [
        "# calculate mae\n",
        "mae = tf.metrics.mean_absolute_error(y_true = y_test,y_pred= tf.squeeze(y_pred))\n",
        "mae"
      ],
      "metadata": {
        "colab": {
          "base_uri": "https://localhost:8080/"
        },
        "id": "pWRNlFle5uMS",
        "outputId": "6632a5d9-8508-4d8b-ec8d-d9402a261c26"
      },
      "execution_count": null,
      "outputs": [
        {
          "output_type": "execute_result",
          "data": {
            "text/plain": [
              "<tf.Tensor: shape=(), dtype=float32, numpy=18.745327>"
            ]
          },
          "metadata": {},
          "execution_count": 52
        }
      ]
    },
    {
      "cell_type": "code",
      "source": [
        "#calculate MSE\n",
        "mse = tf.metrics.mean_squared_error(y_true = y_test, y_pred = tf.squeeze(y_pred))\n",
        "mse"
      ],
      "metadata": {
        "colab": {
          "base_uri": "https://localhost:8080/"
        },
        "id": "YXAiHdFw5uOi",
        "outputId": "a3452c09-e006-40e3-d53f-f67cb6d49e2e"
      },
      "execution_count": null,
      "outputs": [
        {
          "output_type": "execute_result",
          "data": {
            "text/plain": [
              "<tf.Tensor: shape=(), dtype=float32, numpy=353.57336>"
            ]
          },
          "metadata": {},
          "execution_count": 53
        }
      ]
    },
    {
      "cell_type": "code",
      "source": [
        "#make functions to use MSE and MAE\n",
        "def mae(y_true,y_pred):\n",
        "  return tf.metrics.mean_squared_error(y_true = y_test, y_pred = tf.squeeze(y_pred))"
      ],
      "metadata": {
        "id": "fL4MhJHv7nMf"
      },
      "execution_count": null,
      "outputs": []
    },
    {
      "cell_type": "code",
      "source": [
        " mae(y_test,y_pred)"
      ],
      "metadata": {
        "colab": {
          "base_uri": "https://localhost:8080/"
        },
        "id": "ElPFmssN7nO3",
        "outputId": "13f7f9ba-5445-465d-842d-e286ce66d081"
      },
      "execution_count": null,
      "outputs": [
        {
          "output_type": "execute_result",
          "data": {
            "text/plain": [
              "<tf.Tensor: shape=(), dtype=float32, numpy=353.57336>"
            ]
          },
          "metadata": {},
          "execution_count": 55
        }
      ]
    },
    {
      "cell_type": "code",
      "source": [
        "#experiments to improve model furthere\n",
        "#fit, evaluate, tweak, on repeat\n",
        "# 1. get more data\n",
        "# 2. make model larger\n",
        "# 3. train longer\n",
        "X_train, y_train"
      ],
      "metadata": {
        "colab": {
          "base_uri": "https://localhost:8080/"
        },
        "id": "SK5kitaC7nRg",
        "outputId": "5993869c-c5a9-441a-8df2-70ee9f3ad292"
      },
      "execution_count": null,
      "outputs": [
        {
          "output_type": "execute_result",
          "data": {
            "text/plain": [
              "(<tf.Tensor: shape=(40,), dtype=int32, numpy=\n",
              " array([-100,  -96,  -92,  -88,  -84,  -80,  -76,  -72,  -68,  -64,  -60,\n",
              "         -56,  -52,  -48,  -44,  -40,  -36,  -32,  -28,  -24,  -20,  -16,\n",
              "         -12,   -8,   -4,    0,    4,    8,   12,   16,   20,   24,   28,\n",
              "          32,   36,   40,   44,   48,   52,   56], dtype=int32)>,\n",
              " <tf.Tensor: shape=(40,), dtype=int32, numpy=\n",
              " array([-90, -86, -82, -78, -74, -70, -66, -62, -58, -54, -50, -46, -42,\n",
              "        -38, -34, -30, -26, -22, -18, -14, -10,  -6,  -2,   2,   6,  10,\n",
              "         14,  18,  22,  26,  30,  34,  38,  42,  46,  50,  54,  58,  62,\n",
              "         66], dtype=int32)>)"
            ]
          },
          "metadata": {},
          "execution_count": 56
        }
      ]
    },
    {
      "cell_type": "code",
      "source": [
        "X_test"
      ],
      "metadata": {
        "colab": {
          "base_uri": "https://localhost:8080/"
        },
        "id": "WpBnRz1cC8v3",
        "outputId": "8fe2ff2c-82f3-4bab-a5e0-c456416dc5ca"
      },
      "execution_count": null,
      "outputs": [
        {
          "output_type": "execute_result",
          "data": {
            "text/plain": [
              "<tf.Tensor: shape=(10,), dtype=int32, numpy=array([60, 64, 68, 72, 76, 80, 84, 88, 92, 96], dtype=int32)>"
            ]
          },
          "metadata": {},
          "execution_count": 57
        }
      ]
    },
    {
      "cell_type": "code",
      "source": [
        "# X_train = tf.reshape(X_train, shape= (20,2))\n",
        "# y_train = tf.reshape(y_train, shape= (20,2))\n",
        "# X_test =tf.reshape(X_test, shape= (5,2))\n",
        "# y_test = tf.reshape(y_test, shape= (5,2))"
      ],
      "metadata": {
        "id": "4VJh1iTEBXRz"
      },
      "execution_count": null,
      "outputs": []
    },
    {
      "cell_type": "code",
      "source": [
        "#3 modeling experiemnts"
      ],
      "metadata": {
        "id": "tGL9c-AW7nWX"
      },
      "execution_count": null,
      "outputs": []
    },
    {
      "cell_type": "code",
      "source": [
        "tf.random.set_seed(42)\n",
        "model_1 = tf.keras.Sequential([\n",
        "                               tf.keras.layers.Dense(1)\n",
        "])\n",
        "\n",
        "model_1.compile(loss = tf.keras.losses.mae,optimizer=tf.keras.optimizers.SGD(),\n",
        "                metrics=[\"mae\"])\n",
        "model_1.fit(X_train, y_train, epochs=100)\n",
        "\n",
        "model.summary()"
      ],
      "metadata": {
        "colab": {
          "base_uri": "https://localhost:8080/",
          "height": 778
        },
        "id": "wBafu7rW7nZH",
        "outputId": "42c281e0-58c5-411b-9705-5ea3e3667e33"
      },
      "execution_count": null,
      "outputs": [
        {
          "output_type": "stream",
          "name": "stdout",
          "text": [
            "Epoch 1/100\n"
          ]
        },
        {
          "output_type": "error",
          "ename": "ValueError",
          "evalue": "ignored",
          "traceback": [
            "\u001b[0;31m---------------------------------------------------------------------------\u001b[0m",
            "\u001b[0;31mValueError\u001b[0m                                Traceback (most recent call last)",
            "\u001b[0;32m<ipython-input-60-17d56ea47427>\u001b[0m in \u001b[0;36m<module>\u001b[0;34m()\u001b[0m\n\u001b[1;32m      6\u001b[0m model_1.compile(loss = tf.keras.losses.mae,optimizer=tf.keras.optimizers.SGD(),\n\u001b[1;32m      7\u001b[0m                 metrics=[\"mae\"])\n\u001b[0;32m----> 8\u001b[0;31m \u001b[0mmodel_1\u001b[0m\u001b[0;34m.\u001b[0m\u001b[0mfit\u001b[0m\u001b[0;34m(\u001b[0m\u001b[0mX_train\u001b[0m\u001b[0;34m,\u001b[0m \u001b[0my_train\u001b[0m\u001b[0;34m,\u001b[0m \u001b[0mepochs\u001b[0m\u001b[0;34m=\u001b[0m\u001b[0;36m100\u001b[0m\u001b[0;34m)\u001b[0m\u001b[0;34m\u001b[0m\u001b[0;34m\u001b[0m\u001b[0m\n\u001b[0m\u001b[1;32m      9\u001b[0m \u001b[0;34m\u001b[0m\u001b[0m\n\u001b[1;32m     10\u001b[0m \u001b[0mmodel\u001b[0m\u001b[0;34m.\u001b[0m\u001b[0msummary\u001b[0m\u001b[0;34m(\u001b[0m\u001b[0;34m)\u001b[0m\u001b[0;34m\u001b[0m\u001b[0;34m\u001b[0m\u001b[0m\n",
            "\u001b[0;32m/usr/local/lib/python3.7/dist-packages/keras/utils/traceback_utils.py\u001b[0m in \u001b[0;36merror_handler\u001b[0;34m(*args, **kwargs)\u001b[0m\n\u001b[1;32m     65\u001b[0m     \u001b[0;32mexcept\u001b[0m \u001b[0mException\u001b[0m \u001b[0;32mas\u001b[0m \u001b[0me\u001b[0m\u001b[0;34m:\u001b[0m  \u001b[0;31m# pylint: disable=broad-except\u001b[0m\u001b[0;34m\u001b[0m\u001b[0;34m\u001b[0m\u001b[0m\n\u001b[1;32m     66\u001b[0m       \u001b[0mfiltered_tb\u001b[0m \u001b[0;34m=\u001b[0m \u001b[0m_process_traceback_frames\u001b[0m\u001b[0;34m(\u001b[0m\u001b[0me\u001b[0m\u001b[0;34m.\u001b[0m\u001b[0m__traceback__\u001b[0m\u001b[0;34m)\u001b[0m\u001b[0;34m\u001b[0m\u001b[0;34m\u001b[0m\u001b[0m\n\u001b[0;32m---> 67\u001b[0;31m       \u001b[0;32mraise\u001b[0m \u001b[0me\u001b[0m\u001b[0;34m.\u001b[0m\u001b[0mwith_traceback\u001b[0m\u001b[0;34m(\u001b[0m\u001b[0mfiltered_tb\u001b[0m\u001b[0;34m)\u001b[0m \u001b[0;32mfrom\u001b[0m \u001b[0;32mNone\u001b[0m\u001b[0;34m\u001b[0m\u001b[0;34m\u001b[0m\u001b[0m\n\u001b[0m\u001b[1;32m     68\u001b[0m     \u001b[0;32mfinally\u001b[0m\u001b[0;34m:\u001b[0m\u001b[0;34m\u001b[0m\u001b[0;34m\u001b[0m\u001b[0m\n\u001b[1;32m     69\u001b[0m       \u001b[0;32mdel\u001b[0m \u001b[0mfiltered_tb\u001b[0m\u001b[0;34m\u001b[0m\u001b[0;34m\u001b[0m\u001b[0m\n",
            "\u001b[0;32m/usr/local/lib/python3.7/dist-packages/tensorflow/python/framework/func_graph.py\u001b[0m in \u001b[0;36mautograph_handler\u001b[0;34m(*args, **kwargs)\u001b[0m\n\u001b[1;32m   1145\u001b[0m           \u001b[0;32mexcept\u001b[0m \u001b[0mException\u001b[0m \u001b[0;32mas\u001b[0m \u001b[0me\u001b[0m\u001b[0;34m:\u001b[0m  \u001b[0;31m# pylint:disable=broad-except\u001b[0m\u001b[0;34m\u001b[0m\u001b[0;34m\u001b[0m\u001b[0m\n\u001b[1;32m   1146\u001b[0m             \u001b[0;32mif\u001b[0m \u001b[0mhasattr\u001b[0m\u001b[0;34m(\u001b[0m\u001b[0me\u001b[0m\u001b[0;34m,\u001b[0m \u001b[0;34m\"ag_error_metadata\"\u001b[0m\u001b[0;34m)\u001b[0m\u001b[0;34m:\u001b[0m\u001b[0;34m\u001b[0m\u001b[0;34m\u001b[0m\u001b[0m\n\u001b[0;32m-> 1147\u001b[0;31m               \u001b[0;32mraise\u001b[0m \u001b[0me\u001b[0m\u001b[0;34m.\u001b[0m\u001b[0mag_error_metadata\u001b[0m\u001b[0;34m.\u001b[0m\u001b[0mto_exception\u001b[0m\u001b[0;34m(\u001b[0m\u001b[0me\u001b[0m\u001b[0;34m)\u001b[0m\u001b[0;34m\u001b[0m\u001b[0;34m\u001b[0m\u001b[0m\n\u001b[0m\u001b[1;32m   1148\u001b[0m             \u001b[0;32melse\u001b[0m\u001b[0;34m:\u001b[0m\u001b[0;34m\u001b[0m\u001b[0;34m\u001b[0m\u001b[0m\n\u001b[1;32m   1149\u001b[0m               \u001b[0;32mraise\u001b[0m\u001b[0;34m\u001b[0m\u001b[0;34m\u001b[0m\u001b[0m\n",
            "\u001b[0;31mValueError\u001b[0m: in user code:\n\n    File \"/usr/local/lib/python3.7/dist-packages/keras/engine/training.py\", line 1021, in train_function  *\n        return step_function(self, iterator)\n    File \"/usr/local/lib/python3.7/dist-packages/keras/engine/training.py\", line 1010, in step_function  **\n        outputs = model.distribute_strategy.run(run_step, args=(data,))\n    File \"/usr/local/lib/python3.7/dist-packages/keras/engine/training.py\", line 1000, in run_step  **\n        outputs = model.train_step(data)\n    File \"/usr/local/lib/python3.7/dist-packages/keras/engine/training.py\", line 859, in train_step\n        y_pred = self(x, training=True)\n    File \"/usr/local/lib/python3.7/dist-packages/keras/utils/traceback_utils.py\", line 67, in error_handler\n        raise e.with_traceback(filtered_tb) from None\n    File \"/usr/local/lib/python3.7/dist-packages/keras/engine/input_spec.py\", line 228, in assert_input_compatibility\n        raise ValueError(f'Input {input_index} of layer \"{layer_name}\" '\n\n    ValueError: Exception encountered when calling layer \"sequential_6\" (type Sequential).\n    \n    Input 0 of layer \"dense_6\" is incompatible with the layer: expected min_ndim=2, found ndim=1. Full shape received: (None,)\n    \n    Call arguments received:\n      • inputs=tf.Tensor(shape=(None,), dtype=int32)\n      • training=True\n      • mask=None\n"
          ]
        }
      ]
    },
    {
      "cell_type": "code",
      "source": [
        "X_train, y_train"
      ],
      "metadata": {
        "id": "s7-Cw0t7CxFH"
      },
      "execution_count": null,
      "outputs": []
    },
    {
      "cell_type": "code",
      "source": [
        "X_test, y_test"
      ],
      "metadata": {
        "id": "2C4MEMNWDeCK"
      },
      "execution_count": null,
      "outputs": []
    },
    {
      "cell_type": "code",
      "source": [
        "y_preds_1 = model_1.predict(X_test)\n",
        "\n",
        "# y_preds_1 = tf.reshape( y_preds_1, shape = (5,1) )\n",
        "\n",
        "# y_test = tf.reshape( y_test, shape= (5,2) )\n",
        "\n",
        "# plot_predictions(predictions=y_preds_1)"
      ],
      "metadata": {
        "id": "iKRPclLE7nbn"
      },
      "execution_count": null,
      "outputs": []
    },
    {
      "cell_type": "code",
      "source": [
        "#calcualte model_1 evaluation metrics\n",
        "mae_1 = mae(y_test, y_preds_1 )\n",
        "# mse_1= mse(tf.squeeze(y_test), y_preds_1 )\n",
        "mae_1\n"
      ],
      "metadata": {
        "id": "-Y9ixk7D7neH"
      },
      "execution_count": null,
      "outputs": []
    },
    {
      "cell_type": "code",
      "source": [
        "tf.constant(y_preds_1), tf.squeeze(y_preds_1), y_test"
      ],
      "metadata": {
        "id": "PBBsyp9w7ngf"
      },
      "execution_count": null,
      "outputs": []
    },
    {
      "cell_type": "code",
      "source": [
        "pip install --upgrade tensorflow==2.3.0\n"
      ],
      "metadata": {
        "id": "AauwW6mq7nog"
      },
      "execution_count": null,
      "outputs": []
    },
    {
      "cell_type": "code",
      "source": [
        "def mae(y_true,y_pred):\n",
        "  return tf.metrics.mean_absolute_error(y_true = y_true,y_pred=tf.squeeze(y_pred))\n",
        "def mse(y_true, y_pred):\n",
        "  return tf.metrics.mean_squared_error(y_true=y_true,y_pred=tf.squeeze(y_pred))\n"
      ],
      "metadata": {
        "id": "CjPorlNtKmbV"
      },
      "execution_count": null,
      "outputs": []
    },
    {
      "cell_type": "code",
      "source": [
        "X_train.ndim, y_train.ndim"
      ],
      "metadata": {
        "id": "rsmAxrkid0aD"
      },
      "execution_count": null,
      "outputs": []
    },
    {
      "cell_type": "code",
      "source": [
        "#model_2\n",
        "tf.random.set_seed(42)\n",
        "\n",
        "model_2 = tf.keras.Sequential([ tf.keras.layers.Dense(10),\n",
        "                               tf.keras.layers.Dense(1)\n",
        "                               ])\n",
        "model_2.compile(loss=tf.keras.losses.mae,\n",
        "                optimizer=tf.keras.optimizers.SGD(),\n",
        "                metrics=[\"mse\"])\n",
        "model_2.fit(tf.squeeze(X_train),tf.squeeze(y_train), epochs=100)\n"
      ],
      "metadata": {
        "colab": {
          "base_uri": "https://localhost:8080/",
          "height": 744
        },
        "id": "C9EPx1nscCgo",
        "outputId": "26e8515c-c6b3-422e-c62c-b6519951874e"
      },
      "execution_count": null,
      "outputs": [
        {
          "output_type": "stream",
          "name": "stdout",
          "text": [
            "Epoch 1/100\n"
          ]
        },
        {
          "output_type": "error",
          "ename": "ValueError",
          "evalue": "ignored",
          "traceback": [
            "\u001b[0;31m---------------------------------------------------------------------------\u001b[0m",
            "\u001b[0;31mValueError\u001b[0m                                Traceback (most recent call last)",
            "\u001b[0;32m<ipython-input-134-1e48b39c252a>\u001b[0m in \u001b[0;36m<module>\u001b[0;34m()\u001b[0m\n\u001b[1;32m      8\u001b[0m                 \u001b[0moptimizer\u001b[0m\u001b[0;34m=\u001b[0m\u001b[0mtf\u001b[0m\u001b[0;34m.\u001b[0m\u001b[0mkeras\u001b[0m\u001b[0;34m.\u001b[0m\u001b[0moptimizers\u001b[0m\u001b[0;34m.\u001b[0m\u001b[0mSGD\u001b[0m\u001b[0;34m(\u001b[0m\u001b[0;34m)\u001b[0m\u001b[0;34m,\u001b[0m\u001b[0;34m\u001b[0m\u001b[0;34m\u001b[0m\u001b[0m\n\u001b[1;32m      9\u001b[0m                 metrics=[\"mse\"])\n\u001b[0;32m---> 10\u001b[0;31m \u001b[0mmodel_2\u001b[0m\u001b[0;34m.\u001b[0m\u001b[0mfit\u001b[0m\u001b[0;34m(\u001b[0m\u001b[0mtf\u001b[0m\u001b[0;34m.\u001b[0m\u001b[0msqueeze\u001b[0m\u001b[0;34m(\u001b[0m\u001b[0mX_train\u001b[0m\u001b[0;34m)\u001b[0m\u001b[0;34m,\u001b[0m\u001b[0mtf\u001b[0m\u001b[0;34m.\u001b[0m\u001b[0msqueeze\u001b[0m\u001b[0;34m(\u001b[0m\u001b[0my_train\u001b[0m\u001b[0;34m)\u001b[0m\u001b[0;34m,\u001b[0m \u001b[0mepochs\u001b[0m\u001b[0;34m=\u001b[0m\u001b[0;36m100\u001b[0m\u001b[0;34m)\u001b[0m\u001b[0;34m\u001b[0m\u001b[0;34m\u001b[0m\u001b[0m\n\u001b[0m",
            "\u001b[0;32m/usr/local/lib/python3.7/dist-packages/keras/utils/traceback_utils.py\u001b[0m in \u001b[0;36merror_handler\u001b[0;34m(*args, **kwargs)\u001b[0m\n\u001b[1;32m     65\u001b[0m     \u001b[0;32mexcept\u001b[0m \u001b[0mException\u001b[0m \u001b[0;32mas\u001b[0m \u001b[0me\u001b[0m\u001b[0;34m:\u001b[0m  \u001b[0;31m# pylint: disable=broad-except\u001b[0m\u001b[0;34m\u001b[0m\u001b[0;34m\u001b[0m\u001b[0m\n\u001b[1;32m     66\u001b[0m       \u001b[0mfiltered_tb\u001b[0m \u001b[0;34m=\u001b[0m \u001b[0m_process_traceback_frames\u001b[0m\u001b[0;34m(\u001b[0m\u001b[0me\u001b[0m\u001b[0;34m.\u001b[0m\u001b[0m__traceback__\u001b[0m\u001b[0;34m)\u001b[0m\u001b[0;34m\u001b[0m\u001b[0;34m\u001b[0m\u001b[0m\n\u001b[0;32m---> 67\u001b[0;31m       \u001b[0;32mraise\u001b[0m \u001b[0me\u001b[0m\u001b[0;34m.\u001b[0m\u001b[0mwith_traceback\u001b[0m\u001b[0;34m(\u001b[0m\u001b[0mfiltered_tb\u001b[0m\u001b[0;34m)\u001b[0m \u001b[0;32mfrom\u001b[0m \u001b[0;32mNone\u001b[0m\u001b[0;34m\u001b[0m\u001b[0;34m\u001b[0m\u001b[0m\n\u001b[0m\u001b[1;32m     68\u001b[0m     \u001b[0;32mfinally\u001b[0m\u001b[0;34m:\u001b[0m\u001b[0;34m\u001b[0m\u001b[0;34m\u001b[0m\u001b[0m\n\u001b[1;32m     69\u001b[0m       \u001b[0;32mdel\u001b[0m \u001b[0mfiltered_tb\u001b[0m\u001b[0;34m\u001b[0m\u001b[0;34m\u001b[0m\u001b[0m\n",
            "\u001b[0;32m/usr/local/lib/python3.7/dist-packages/tensorflow/python/framework/func_graph.py\u001b[0m in \u001b[0;36mautograph_handler\u001b[0;34m(*args, **kwargs)\u001b[0m\n\u001b[1;32m   1145\u001b[0m           if isinstance(x, composite_tensor.CompositeTensor) else x)\n\u001b[1;32m   1146\u001b[0m \u001b[0;34m\u001b[0m\u001b[0m\n\u001b[0;32m-> 1147\u001b[0;31m \u001b[0;34m\u001b[0m\u001b[0m\n\u001b[0m\u001b[1;32m   1148\u001b[0m \u001b[0;32mdef\u001b[0m \u001b[0m_get_defun_inputs\u001b[0m\u001b[0;34m(\u001b[0m\u001b[0margs\u001b[0m\u001b[0;34m,\u001b[0m \u001b[0mnames\u001b[0m\u001b[0;34m,\u001b[0m \u001b[0mstructure\u001b[0m\u001b[0;34m,\u001b[0m \u001b[0mflat_shapes\u001b[0m\u001b[0;34m=\u001b[0m\u001b[0;32mNone\u001b[0m\u001b[0;34m)\u001b[0m\u001b[0;34m:\u001b[0m\u001b[0;34m\u001b[0m\u001b[0;34m\u001b[0m\u001b[0m\n\u001b[1;32m   1149\u001b[0m   \"\"\"Maps python function args to graph-construction inputs.\n",
            "\u001b[0;31mValueError\u001b[0m: in user code:\n\n    File \"/usr/local/lib/python3.7/dist-packages/keras/engine/training.py\", line 1021, in train_function  *\n        return step_function(self, iterator)\n    File \"/usr/local/lib/python3.7/dist-packages/keras/engine/training.py\", line 1010, in step_function  **\n        outputs = model.distribute_strategy.run(run_step, args=(data,))\n    File \"/usr/local/lib/python3.7/dist-packages/keras/engine/training.py\", line 1000, in run_step  **\n        outputs = model.train_step(data)\n    File \"/usr/local/lib/python3.7/dist-packages/keras/engine/training.py\", line 859, in train_step\n        y_pred = self(x, training=True)\n    File \"/usr/local/lib/python3.7/dist-packages/keras/utils/traceback_utils.py\", line 67, in error_handler\n        raise e.with_traceback(filtered_tb) from None\n    File \"/usr/local/lib/python3.7/dist-packages/keras/engine/input_spec.py\", line 228, in assert_input_compatibility\n        raise ValueError(f'Input {input_index} of layer \"{layer_name}\" '\n\n    ValueError: Exception encountered when calling layer \"sequential_15\" (type Sequential).\n    \n    Input 0 of layer \"dense_17\" is incompatible with the layer: expected min_ndim=2, found ndim=1. Full shape received: (None,)\n    \n    Call arguments received:\n      • inputs=tf.Tensor(shape=(None,), dtype=int32)\n      • training=True\n      • mask=None\n"
          ]
        }
      ]
    },
    {
      "cell_type": "code",
      "source": [],
      "metadata": {
        "id": "ZRokzzXIcCjY"
      },
      "execution_count": null,
      "outputs": []
    },
    {
      "cell_type": "code",
      "source": [],
      "metadata": {
        "id": "MtRtlxvscCl4"
      },
      "execution_count": null,
      "outputs": []
    },
    {
      "cell_type": "code",
      "source": [],
      "metadata": {
        "id": "-how8jQHcCoS"
      },
      "execution_count": null,
      "outputs": []
    },
    {
      "cell_type": "code",
      "source": [],
      "metadata": {
        "id": "bXPHv_GYcCqp"
      },
      "execution_count": null,
      "outputs": []
    },
    {
      "cell_type": "code",
      "source": [],
      "metadata": {
        "id": "aKM_7FP4cCtS"
      },
      "execution_count": null,
      "outputs": []
    }
  ]
}